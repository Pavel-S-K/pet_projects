{
 "cells": [
  {
   "cell_type": "markdown",
   "metadata": {},
   "source": [
    "# Постановка задачи"
   ]
  },
  {
   "cell_type": "markdown",
   "metadata": {},
   "source": [
    "### Задача"
   ]
  },
  {
   "cell_type": "markdown",
   "metadata": {},
   "source": [
    "- Парсинг данных по книгам с сайта 'https://www.litres.ru/popular/' и построение модели пресказания потенциального рейтинга книги по ее текстовому описанию"
   ]
  },
  {
   "cell_type": "markdown",
   "metadata": {},
   "source": [
    "### Описание данных"
   ]
  },
  {
   "cell_type": "markdown",
   "metadata": {},
   "source": [
    "**Источник данных:** https://www.litres.ru/popular/"
   ]
  },
  {
   "cell_type": "code",
   "execution_count": 1,
   "metadata": {
    "id": "rnxFdMJIALLo"
   },
   "outputs": [],
   "source": [
    "import warnings\n",
    "warnings.filterwarnings(\"ignore\")"
   ]
  },
  {
   "cell_type": "code",
   "execution_count": 2,
   "metadata": {
    "id": "35Uti68PFugT"
   },
   "outputs": [],
   "source": [
    "import requests     \n",
    "import numpy as np   \n",
    "import pandas as pd  \n",
    "import time          "
   ]
  },
  {
   "cell_type": "code",
   "execution_count": 3,
   "metadata": {
    "id": "_k3ix86eFugY"
   },
   "outputs": [],
   "source": [
    "from fake_useragent import UserAgent"
   ]
  },
  {
   "cell_type": "code",
   "execution_count": 4,
   "metadata": {
    "id": "r3iHCGdPFugc"
   },
   "outputs": [],
   "source": [
    "from bs4 import BeautifulSoup"
   ]
  },
  {
   "cell_type": "code",
   "execution_count": 5,
   "metadata": {},
   "outputs": [],
   "source": [
    "from fake_useragent import UserAgent"
   ]
  },
  {
   "cell_type": "markdown",
   "metadata": {},
   "source": [
    "# 1. Парсинг"
   ]
  },
  {
   "cell_type": "markdown",
   "metadata": {},
   "source": [
    "## 1.1 Проверка доступа к сайту"
   ]
  },
  {
   "cell_type": "code",
   "execution_count": 6,
   "metadata": {},
   "outputs": [
    {
     "data": {
      "text/plain": [
       "<Response [200]>"
      ]
     },
     "execution_count": 6,
     "metadata": {},
     "output_type": "execute_result"
    }
   ],
   "source": [
    "page_link = 'https://www.litres.ru/popular/'\n",
    "\n",
    "response = requests.get(page_link, headers={'User-Agent': UserAgent().chrome})\n",
    "response"
   ]
  },
  {
   "cell_type": "code",
   "execution_count": 7,
   "metadata": {},
   "outputs": [
    {
     "data": {
      "text/plain": [
       "{'User-Agent': 'Mozilla/5.0 (X11; Linux x86_64) AppleWebKit/537.36 (KHTML, like Gecko) Chrome/116.0.0.0 Safari/537.36', 'Accept-Encoding': 'gzip, deflate', 'Accept': '*/*', 'Connection': 'keep-alive'}"
      ]
     },
     "execution_count": 7,
     "metadata": {},
     "output_type": "execute_result"
    }
   ],
   "source": [
    "response.request.headers"
   ]
  },
  {
   "cell_type": "markdown",
   "metadata": {},
   "source": [
    "Посмотрим адекватно ли выгрузилось содержимое"
   ]
  },
  {
   "cell_type": "code",
   "execution_count": 8,
   "metadata": {},
   "outputs": [
    {
     "name": "stdout",
     "output_type": "stream",
     "text": [
      "<!DOCTYPE html>\n",
      "<html lang=\"ru\">\n",
      " <script>\n",
      "  if(typeof window.Intl==='undefined'||typeof window.Intl.DateTimeFormat==='undefined'||typeof window.MutationObserver==='undefined'||typeof window.IntersectionObserver==='undefined'||typeof window.ResizeObserver==='undefined'){document.write('<script src=\"https://polyfill.io/v3/polyfill.min.js?features=Intl.DateTimeFormat%2CMutationObserver%2CIntersectionObserver%2CResizeObserver\"></scr'+'ipt>')}\n",
      " </script>\n",
      " <head>\n",
      "  <meta charset=\"utf-8\"/>\n",
      "  <link href=\"https://www.litres.ru/static/litres/favicon.svg\" rel=\"shortcut icon\" type=\"image/svg+xml\"/>\n",
      "  <link href=\"https://www.litres.ru/static/litres/favicon.ico\" rel=\"shortcut icon\" type=\"image/x-icon\"/>\n",
      "  <link href=\"/rss/\" rel=\"alternate\" title=\"Новые книги на Литрес\" type=\"application/rss+xml\"/>\n",
      "  <link href=\"https://www.litres.ru/static/litres/i/social/seo/icon_114x114.png?caf381\" rel=\"apple-touch-icon\"/>\n",
      "  <link href=\"https://www.litres.ru/static/litres/inc/seo/yandex-tableau-manifest.json\" rel\n"
     ]
    }
   ],
   "source": [
    "html = response.content\n",
    "soup = BeautifulSoup(html, 'html.parser')                        \n",
    "print(soup.prettify()[:1000])"
   ]
  },
  {
   "cell_type": "markdown",
   "metadata": {},
   "source": [
    "**Заключение**\n",
    "\n",
    "- Доступ к странице есть;\n",
    "- Данные выгрузились адекватно"
   ]
  },
  {
   "cell_type": "markdown",
   "metadata": {},
   "source": [
    "## 2.1 Описание парсера"
   ]
  },
  {
   "cell_type": "markdown",
   "metadata": {},
   "source": [
    "Сформируем скрипт выгрузки ссылок на книги со страницы"
   ]
  },
  {
   "cell_type": "code",
   "execution_count": 9,
   "metadata": {
    "id": "xVeWPcC2Fugh"
   },
   "outputs": [],
   "source": [
    "book_links = soup.findAll(lambda tag: tag.name == 'a' and tag.get('data-testid') == \"art__title\")\n",
    "book_links = [link.attrs['href'] for link in book_links]"
   ]
  },
  {
   "cell_type": "markdown",
   "metadata": {},
   "source": [
    "Проверим адекватна ли выгрузка"
   ]
  },
  {
   "cell_type": "code",
   "execution_count": 10,
   "metadata": {
    "colab": {
     "base_uri": "https://localhost:8080/"
    },
    "id": "R9_2SeUuFugh",
    "outputId": "79c4a798-3e24-4523-c6bf-381280432784"
   },
   "outputs": [
    {
     "name": "stdout",
     "output_type": "stream",
     "text": [
      "Всего ссылок выгружено: 36\n"
     ]
    },
    {
     "data": {
      "text/plain": [
       "['/book/tatyana-muzhickaya/teoriya-neveroyatnosti-kak-mechtat-chtoby-sbyvalos-kak-27304463/',\n",
       " '/book/luk-boden/hooponopono-drevniy-gavayskiy-metod-ispolneniya-zhelaniy-48428074/',\n",
       " '/book/ekaterina-kablukova/spasti-chudovische-70338325/?erid=LjN8K8pDB&source=art&adv_art_id=252&campaign_id=1709&promo_art_position=3&platform=web',\n",
       " '/audiobook/patrik-king/chitayte-ludey-kak-knigu-kak-analizirovat-ponimat-i-predskazyv-65834170/',\n",
       " '/book/sergey-lukyanenko/forsayt-70358980/',\n",
       " '/book/meri-li/tuman-polnoe-izdanie-70313815/',\n",
       " '/book/patrik-king/perestante-ugozhdat-ludyam-budte-assertivnym-perestante-zaboti-68002241/',\n",
       " '/book/erofey-trofimov/shatun-shag-v-neizvestnost-70336498/',\n",
       " '/book/anne-dar/rodnaya-krov-67066479/',\n",
       " '/book/mayk-omer/vnutri-ubiycy-47453330/']"
      ]
     },
     "execution_count": 10,
     "metadata": {},
     "output_type": "execute_result"
    }
   ],
   "source": [
    "print(f'Всего ссылок выгружено: {len(book_links)}')\n",
    "book_links[:10]"
   ]
  },
  {
   "cell_type": "markdown",
   "metadata": {},
   "source": [
    "Отлично, ссылки выгружаются. \n",
    "Оформим в виде функции"
   ]
  },
  {
   "cell_type": "code",
   "execution_count": 11,
   "metadata": {
    "code_folding": [],
    "id": "iwKbhgBuFugh"
   },
   "outputs": [],
   "source": [
    "def getPageLinks(page_number):\n",
    "    \"\"\"\n",
    "        Возвращает список ссылок на книги\n",
    "\n",
    "        page_number: int/string\n",
    "            номер страницы для парсинга\n",
    "\n",
    "    \"\"\"\n",
    "    # составляем ссылку на страницу поиска\n",
    "    page_link = 'https://www.litres.ru/popular/?page={}'.format(page_number)\n",
    "\n",
    "    # запрашиваем данные по ней\n",
    "    response = requests.get(page_link, headers={'User-Agent': UserAgent().chrome})\n",
    "\n",
    "    if not response.ok:\n",
    "        # если сервер нам отказал, вернем пустой лист для текущей страницы\n",
    "        return []\n",
    "\n",
    "    # получаем содержимое страницы и переводим в суп\n",
    "    html = response.content\n",
    "    soup = BeautifulSoup(html,'html.parser')\n",
    "\n",
    "    # наконец, ищем ссылки на мемы и очищаем их от ненужных тэгов\n",
    "    book_links = soup.findAll(lambda tag: tag.name == 'a' and tag.get('data-testid') == \"art__title\")\n",
    "    book_links = ['https://www.litres.ru' + link.attrs['href'] for link in book_links]\n",
    "\n",
    "    return book_links"
   ]
  },
  {
   "cell_type": "markdown",
   "metadata": {
    "id": "tapV9bsDFugi"
   },
   "source": [
    "Протестируем функцию и убедимся, что всё хорошо"
   ]
  },
  {
   "cell_type": "code",
   "execution_count": 13,
   "metadata": {
    "colab": {
     "base_uri": "https://localhost:8080/"
    },
    "id": "LQ3QNzNJFugi",
    "outputId": "000ac4fa-2164-4f61-f17f-40639fa74453"
   },
   "outputs": [
    {
     "data": {
      "text/plain": [
       "['https://www.litres.ru/book/tatyana-muzhickaya/teoriya-neveroyatnosti-kak-mechtat-chtoby-sbyvalos-kak-27304463/',\n",
       " 'https://www.litres.ru/book/luk-boden/hooponopono-drevniy-gavayskiy-metod-ispolneniya-zhelaniy-48428074/']"
      ]
     },
     "execution_count": 13,
     "metadata": {},
     "output_type": "execute_result"
    }
   ],
   "source": [
    "book_links = getPageLinks(1)\n",
    "book_links[:2]"
   ]
  },
  {
   "cell_type": "markdown",
   "metadata": {
    "id": "KlqMT1cOFugi"
   },
   "source": [
    "Отлично, функция работает"
   ]
  },
  {
   "cell_type": "markdown",
   "metadata": {},
   "source": [
    "Теперь напишем функцию выгрузки информации о книге"
   ]
  },
  {
   "cell_type": "code",
   "execution_count": 14,
   "metadata": {},
   "outputs": [],
   "source": [
    "def get_book_data(link):\n",
    "    \"\"\"\n",
    "        Возвращает очищенное число просмотров/коментариев/...\n",
    "\n",
    "        soup: объект bs4.BeautifulSoup\n",
    "            суп текущей страницы\n",
    "\n",
    "    \"\"\"\n",
    "    obj_dict = dict()\n",
    "    \n",
    "    # составляем ссылку на страницу поиска\n",
    "    page_link = link\n",
    "\n",
    "    # запрашиваем данные по ней\n",
    "    response = requests.get(page_link, headers={'User-Agent': UserAgent().chrome})\n",
    "\n",
    "    # получаем содержимое страницы и переводим в суп\n",
    "    html = response.content\n",
    "    soup = BeautifulSoup(html,'html.parser')\n",
    "    \n",
    "    try:\n",
    "        obj = soup.find(lambda tag: tag.name == 'h1' and tag.get('itemprop') == \"name\")\n",
    "        obj_dict[\"Наименование\"] = obj.text\n",
    "    except:\n",
    "        obj_dict[\"Наименование\"]=None\n",
    "        \n",
    "    try:\n",
    "        obj = soup.find(lambda tag: tag.name == 'div' and tag.get('data-testid') == \"book-short-description__wrapper\")\n",
    "        obj = obj.find(lambda tag: tag.name == 'div').text\n",
    "        obj = str(obj).replace('\\n', ' ')\n",
    "        obj_dict[\"Краткое описание\"] = obj\n",
    "    except:\n",
    "        obj_dict[\"Краткое описание\"]=None   \n",
    "     \n",
    "    try:\n",
    "        obj = soup.find(lambda tag: tag.name == 'meta' and tag.get('itemprop') == \"ratingValue\")\n",
    "        obj_dict[\"Рейтинг\"] = obj.attrs['content']\n",
    "    except:\n",
    "        obj_dict[\"Рейтинг\"] = None\n",
    "        \n",
    "    try:\n",
    "        obj = soup.find(lambda tag: tag.name == 'meta' and tag.get('itemprop') == \"ratingCount\")\n",
    "        obj_dict[\"Количество оценок\"] = obj.attrs['content']\n",
    "    except:\n",
    "        obj_dict[\"Количество оценок\"] = None\n",
    "        \n",
    "    try:\n",
    "        obj = soup.find(lambda tag: tag.name == 'div' and tag.get('data-testid') == \"book-factoids__reviews\")\n",
    "        obj = obj.find(lambda tag: tag.name == 'span').text\n",
    "        obj_dict[\"Количество отзывов\"] = obj\n",
    "    except:\n",
    "        obj_dict[\"Количество отзывов\"] = None\n",
    "        \n",
    "    try:\n",
    "        obj = soup.find(lambda tag: tag.name == 'div' and tag.get('data-analytics-id') == \"book-characteristics\")\n",
    "        obj = obj.findAll(lambda tag: tag.name == 'div' and tag.get('class') == [\"CharacteristicsBlock-module__characteristic_2SKY6\"])\n",
    "        obj = [row for row in obj if 'Дата выхода на Литрес' in row.text][0]\n",
    "        obj_dict[\"Дата публикации\"] = obj.find(lambda tag: tag.name=='span' and 'Дата выхода на Литрес' not in tag.text).text\n",
    "    except:\n",
    "        obj_dict[\"Дата публикации\"] = None\n",
    "        \n",
    "        \n",
    "    obj_dict['page_link'] = link\n",
    "\n",
    "    return obj_dict"
   ]
  },
  {
   "cell_type": "markdown",
   "metadata": {},
   "source": [
    "Проверим работоспособность функции"
   ]
  },
  {
   "cell_type": "code",
   "execution_count": 15,
   "metadata": {},
   "outputs": [
    {
     "data": {
      "text/plain": [
       "{'Наименование': 'Читайте людей как книгу. Как анализировать, понимать и предсказывать эмоции, мысли, намерения и поведение людей',\n",
       " 'Краткое описание': 'В этой книге Патрика Кинга, автора мировых бестселлеров в области навыков социальной коммуникации, рассмотрены способы, с помощью которых можно развить умение «читать» и анализировать людей, их характер, поведение, мотивацию, невысказанные намерения. Этот навык бесценен в социуме. Задача автора – научить вас получать качественную, полезную, объективную информацию о людях во время первой же встречи, чтобы вы могли выстроить модель их мыслей, ощущений и действий в контексте ситуации. Читая эту книгу, вы узнаете, как определить, что вас обманывают или пытаются вами манипулировать, как выносить суждения о личностных характеристиках и ценностях людей, наблюдая за их речью, выражениями лиц, языком тела, и даже одеждой. Кроме того, знание, как «читать» людей, усилит вашу способность к состраданию, поможет стать лучшими родителями или партнерами в романтических отношениях. И дополнительный эффект – вы станете лучше разбираться в себе!',\n",
       " 'Рейтинг': '4.2',\n",
       " 'Количество оценок': '457',\n",
       " 'Количество отзывов': '49',\n",
       " 'Дата публикации': '15 июля 2021',\n",
       " 'page_link': 'https://www.litres.ru/audiobook/patrik-king/chitayte-ludey-kak-knigu-kak-analizirovat-ponimat-i-predskazyv-65834170/'}"
      ]
     },
     "execution_count": 15,
     "metadata": {},
     "output_type": "execute_result"
    }
   ],
   "source": [
    "book_data = get_book_data('https://www.litres.ru/audiobook/patrik-king/chitayte-ludey-kak-knigu-kak-analizirovat-ponimat-i-predskazyv-65834170/')\n",
    "book_data"
   ]
  },
  {
   "cell_type": "markdown",
   "metadata": {},
   "source": [
    "Отлично, данные получены. Теперь оформим в виде Pandas DataFrame"
   ]
  },
  {
   "cell_type": "code",
   "execution_count": 16,
   "metadata": {},
   "outputs": [],
   "source": [
    "final_df = pd.DataFrame(columns=['Наименование',  'Краткое описание', 'Рейтинг', 'Количество оценок', 'Дата публикации',\n",
    "                                 'Количество отзывов', 'page_link'])\n",
    "\n",
    "final_df = final_df.append(book_data, ignore_index=True).dropna(axis = 1)"
   ]
  },
  {
   "cell_type": "code",
   "execution_count": 17,
   "metadata": {},
   "outputs": [
    {
     "data": {
      "text/html": [
       "<div>\n",
       "<style scoped>\n",
       "    .dataframe tbody tr th:only-of-type {\n",
       "        vertical-align: middle;\n",
       "    }\n",
       "\n",
       "    .dataframe tbody tr th {\n",
       "        vertical-align: top;\n",
       "    }\n",
       "\n",
       "    .dataframe thead th {\n",
       "        text-align: right;\n",
       "    }\n",
       "</style>\n",
       "<table border=\"1\" class=\"dataframe\">\n",
       "  <thead>\n",
       "    <tr style=\"text-align: right;\">\n",
       "      <th></th>\n",
       "      <th>Наименование</th>\n",
       "      <th>Краткое описание</th>\n",
       "      <th>Рейтинг</th>\n",
       "      <th>Количество оценок</th>\n",
       "      <th>Дата публикации</th>\n",
       "      <th>Количество отзывов</th>\n",
       "      <th>page_link</th>\n",
       "    </tr>\n",
       "  </thead>\n",
       "  <tbody>\n",
       "    <tr>\n",
       "      <th>0</th>\n",
       "      <td>Читайте людей как книгу. Как анализировать, по...</td>\n",
       "      <td>В этой книге Патрика Кинга, автора мировых бес...</td>\n",
       "      <td>4.2</td>\n",
       "      <td>457</td>\n",
       "      <td>15 июля 2021</td>\n",
       "      <td>49</td>\n",
       "      <td>https://www.litres.ru/audiobook/patrik-king/ch...</td>\n",
       "    </tr>\n",
       "  </tbody>\n",
       "</table>\n",
       "</div>"
      ],
      "text/plain": [
       "                                        Наименование  \\\n",
       "0  Читайте людей как книгу. Как анализировать, по...   \n",
       "\n",
       "                                    Краткое описание Рейтинг  \\\n",
       "0  В этой книге Патрика Кинга, автора мировых бес...     4.2   \n",
       "\n",
       "  Количество оценок Дата публикации Количество отзывов  \\\n",
       "0               457    15 июля 2021                 49   \n",
       "\n",
       "                                           page_link  \n",
       "0  https://www.litres.ru/audiobook/patrik-king/ch...  "
      ]
     },
     "execution_count": 17,
     "metadata": {},
     "output_type": "execute_result"
    }
   ],
   "source": [
    "final_df"
   ]
  },
  {
   "cell_type": "markdown",
   "metadata": {},
   "source": [
    "Теперь выгрузим интересующую нас информацию о книгах:\n",
    "   - Выгрузку будем производить с 1 по 40 страницы;\n",
    "   - Каждую страницу будем сохранять в отдельном pandas.Dataframe на ПК в формате .pkl на случай обрыва связи."
   ]
  },
  {
   "cell_type": "code",
   "execution_count": null,
   "metadata": {},
   "outputs": [],
   "source": [
    "from tqdm import tqdm_notebook\n",
    "\n",
    "for page_number in tqdm_notebook(range(1, 41), desc='Pages'):\n",
    "    final_df = pd.DataFrame(columns=['Наименование',  'Краткое описание', 'Рейтинг', 'Количество оценок', 'Дата публикации',\n",
    "                                 'Количество отзывов', 'page_link'])\n",
    "    # Выгружаем все ссылки на книги со страницы\n",
    "    book_links = getPageLinks(page_number)\n",
    "    for book_links in tqdm_notebook(book_links, desc='Books', leave=False):\n",
    "        # Делаем три попытки выгрузить данные.\n",
    "        for i in range(3):\n",
    "            try:\n",
    "    \n",
    "                data_row = get_book_data(book_links)\n",
    "                final_df = final_df.append(data_row, ignore_index=True)\n",
    "                \n",
    "                # если всё получилось - выходим из внутреннего цикла\n",
    "                break\n",
    "            except:\n",
    "                # Иначе, пробуем еще несколько раз, пока не закончатся попытки\n",
    "                print('AHTUNG! parsing once again:', book_links)\n",
    "                continue\n",
    "            time.sleep(0.5)\n",
    "    final_df.to_pickle(f'../data/parsing/df_page_{page_number}')"
   ]
  },
  {
   "cell_type": "markdown",
   "metadata": {},
   "source": [
    "# 2. EDA"
   ]
  },
  {
   "cell_type": "markdown",
   "metadata": {},
   "source": [
    "## 2.1 Загрузка данных"
   ]
  },
  {
   "cell_type": "markdown",
   "metadata": {},
   "source": [
    "Проверим данные, которые мы спарсили"
   ]
  },
  {
   "cell_type": "code",
   "execution_count": 18,
   "metadata": {},
   "outputs": [],
   "source": [
    "df=pd.DataFrame()\n",
    "for page in range(41):\n",
    "    df = pd.concat([df, pd.read_pickle(f'../data/parsing/df_page_{page}')], ignore_index=True)"
   ]
  },
  {
   "cell_type": "code",
   "execution_count": 21,
   "metadata": {},
   "outputs": [
    {
     "data": {
      "text/html": [
       "<div>\n",
       "<style scoped>\n",
       "    .dataframe tbody tr th:only-of-type {\n",
       "        vertical-align: middle;\n",
       "    }\n",
       "\n",
       "    .dataframe tbody tr th {\n",
       "        vertical-align: top;\n",
       "    }\n",
       "\n",
       "    .dataframe thead th {\n",
       "        text-align: right;\n",
       "    }\n",
       "</style>\n",
       "<table border=\"1\" class=\"dataframe\">\n",
       "  <thead>\n",
       "    <tr style=\"text-align: right;\">\n",
       "      <th></th>\n",
       "      <th>Наименование</th>\n",
       "      <th>Краткое описание</th>\n",
       "      <th>Рейтинг</th>\n",
       "      <th>Количество оценок</th>\n",
       "      <th>Дата публикации</th>\n",
       "      <th>Количество отзывов</th>\n",
       "      <th>page_link</th>\n",
       "    </tr>\n",
       "  </thead>\n",
       "  <tbody>\n",
       "    <tr>\n",
       "      <th>0</th>\n",
       "      <td>Теория невероятности. Как мечтать, чтобы сбыва...</td>\n",
       "      <td>Никакой магии. Только здравый смысл, психологи...</td>\n",
       "      <td>4.8</td>\n",
       "      <td>1541</td>\n",
       "      <td>16 февраля 2019</td>\n",
       "      <td>269</td>\n",
       "      <td>https://www.litres.ru/book/tatyana-muzhickaya/...</td>\n",
       "    </tr>\n",
       "    <tr>\n",
       "      <th>1</th>\n",
       "      <td>Читайте людей как книгу. Как анализировать, по...</td>\n",
       "      <td>В этой книге Патрика Кинга, автора мировых бес...</td>\n",
       "      <td>4.2</td>\n",
       "      <td>456</td>\n",
       "      <td>15 июля 2021</td>\n",
       "      <td>49</td>\n",
       "      <td>https://www.litres.ru/audiobook/patrik-king/ch...</td>\n",
       "    </tr>\n",
       "    <tr>\n",
       "      <th>2</th>\n",
       "      <td>Спасти чудовище</td>\n",
       "      <td>Нищая швея и граф, чье лицо изуродовано войной...</td>\n",
       "      <td>4.9</td>\n",
       "      <td>466</td>\n",
       "      <td>14 февраля 2024</td>\n",
       "      <td>112</td>\n",
       "      <td>https://www.litres.ru/book/ekaterina-kablukova...</td>\n",
       "    </tr>\n",
       "    <tr>\n",
       "      <th>3</th>\n",
       "      <td>Форсайт</td>\n",
       "      <td>Людям порой снится прошлое. Иногда хорошее, ин...</td>\n",
       "      <td>4.5</td>\n",
       "      <td>165</td>\n",
       "      <td>21 февраля 2024</td>\n",
       "      <td>23</td>\n",
       "      <td>https://www.litres.ru/book/sergey-lukyanenko/f...</td>\n",
       "    </tr>\n",
       "    <tr>\n",
       "      <th>4</th>\n",
       "      <td>Перестаньте угождать людям. Будьте ассертивным...</td>\n",
       "      <td>Угодничество не зря называют болезнью. Оно мож...</td>\n",
       "      <td>4.3</td>\n",
       "      <td>160</td>\n",
       "      <td>08 сентября 2022</td>\n",
       "      <td>32</td>\n",
       "      <td>https://www.litres.ru/book/patrik-king/peresta...</td>\n",
       "    </tr>\n",
       "  </tbody>\n",
       "</table>\n",
       "</div>"
      ],
      "text/plain": [
       "                                        Наименование  \\\n",
       "0  Теория невероятности. Как мечтать, чтобы сбыва...   \n",
       "1  Читайте людей как книгу. Как анализировать, по...   \n",
       "2                                    Спасти чудовище   \n",
       "3                                            Форсайт   \n",
       "4  Перестаньте угождать людям. Будьте ассертивным...   \n",
       "\n",
       "                                    Краткое описание Рейтинг  \\\n",
       "0  Никакой магии. Только здравый смысл, психологи...     4.8   \n",
       "1  В этой книге Патрика Кинга, автора мировых бес...     4.2   \n",
       "2  Нищая швея и граф, чье лицо изуродовано войной...     4.9   \n",
       "3  Людям порой снится прошлое. Иногда хорошее, ин...     4.5   \n",
       "4  Угодничество не зря называют болезнью. Оно мож...     4.3   \n",
       "\n",
       "  Количество оценок   Дата публикации Количество отзывов  \\\n",
       "0              1541   16 февраля 2019                269   \n",
       "1               456      15 июля 2021                 49   \n",
       "2               466   14 февраля 2024                112   \n",
       "3               165   21 февраля 2024                 23   \n",
       "4               160  08 сентября 2022                 32   \n",
       "\n",
       "                                           page_link  \n",
       "0  https://www.litres.ru/book/tatyana-muzhickaya/...  \n",
       "1  https://www.litres.ru/audiobook/patrik-king/ch...  \n",
       "2  https://www.litres.ru/book/ekaterina-kablukova...  \n",
       "3  https://www.litres.ru/book/sergey-lukyanenko/f...  \n",
       "4  https://www.litres.ru/book/patrik-king/peresta...  "
      ]
     },
     "execution_count": 21,
     "metadata": {},
     "output_type": "execute_result"
    }
   ],
   "source": [
    "df.head()"
   ]
  },
  {
   "cell_type": "code",
   "execution_count": 20,
   "metadata": {},
   "outputs": [
    {
     "name": "stdout",
     "output_type": "stream",
     "text": [
      "<class 'pandas.core.frame.DataFrame'>\n",
      "RangeIndex: 1440 entries, 0 to 1439\n",
      "Data columns (total 7 columns):\n",
      " #   Column              Non-Null Count  Dtype \n",
      "---  ------              --------------  ----- \n",
      " 0   Наименование        1440 non-null   object\n",
      " 1   Краткое описание    1440 non-null   object\n",
      " 2   Рейтинг             1440 non-null   object\n",
      " 3   Количество оценок   1440 non-null   object\n",
      " 4   Дата публикации     1425 non-null   object\n",
      " 5   Количество отзывов  1440 non-null   object\n",
      " 6   page_link           1440 non-null   object\n",
      "dtypes: object(7)\n",
      "memory usage: 78.9+ KB\n"
     ]
    }
   ],
   "source": [
    "df.info()"
   ]
  },
  {
   "cell_type": "markdown",
   "metadata": {},
   "source": [
    "**Заключение**\n",
    "\n",
    "- Отлично, данные выгрузить удалось\n",
    "- Выгружено 1440 шт. записей"
   ]
  },
  {
   "cell_type": "markdown",
   "metadata": {},
   "source": [
    "## 2.2 Типы данных"
   ]
  },
  {
   "cell_type": "markdown",
   "metadata": {},
   "source": [
    "Посмотрим на типы выгруженных данных"
   ]
  },
  {
   "cell_type": "code",
   "execution_count": 22,
   "metadata": {},
   "outputs": [
    {
     "data": {
      "text/html": [
       "<div>\n",
       "<style scoped>\n",
       "    .dataframe tbody tr th:only-of-type {\n",
       "        vertical-align: middle;\n",
       "    }\n",
       "\n",
       "    .dataframe tbody tr th {\n",
       "        vertical-align: top;\n",
       "    }\n",
       "\n",
       "    .dataframe thead th {\n",
       "        text-align: right;\n",
       "    }\n",
       "</style>\n",
       "<table border=\"1\" class=\"dataframe\">\n",
       "  <thead>\n",
       "    <tr style=\"text-align: right;\">\n",
       "      <th></th>\n",
       "      <th>Колич. уник. значений</th>\n",
       "      <th>Доля в %</th>\n",
       "      <th>dtype</th>\n",
       "    </tr>\n",
       "  </thead>\n",
       "  <tbody>\n",
       "    <tr>\n",
       "      <th>page_link</th>\n",
       "      <td>1410</td>\n",
       "      <td>97.916667</td>\n",
       "      <td>object</td>\n",
       "    </tr>\n",
       "    <tr>\n",
       "      <th>Краткое описание</th>\n",
       "      <td>1385</td>\n",
       "      <td>96.180556</td>\n",
       "      <td>object</td>\n",
       "    </tr>\n",
       "    <tr>\n",
       "      <th>Наименование</th>\n",
       "      <td>1218</td>\n",
       "      <td>84.583333</td>\n",
       "      <td>object</td>\n",
       "    </tr>\n",
       "    <tr>\n",
       "      <th>Количество оценок</th>\n",
       "      <td>953</td>\n",
       "      <td>66.180556</td>\n",
       "      <td>object</td>\n",
       "    </tr>\n",
       "    <tr>\n",
       "      <th>Дата публикации</th>\n",
       "      <td>940</td>\n",
       "      <td>65.277778</td>\n",
       "      <td>object</td>\n",
       "    </tr>\n",
       "    <tr>\n",
       "      <th>Количество отзывов</th>\n",
       "      <td>366</td>\n",
       "      <td>25.416667</td>\n",
       "      <td>object</td>\n",
       "    </tr>\n",
       "    <tr>\n",
       "      <th>Рейтинг</th>\n",
       "      <td>24</td>\n",
       "      <td>1.666667</td>\n",
       "      <td>object</td>\n",
       "    </tr>\n",
       "  </tbody>\n",
       "</table>\n",
       "</div>"
      ],
      "text/plain": [
       "                    Колич. уник. значений   Доля в %   dtype\n",
       "page_link                            1410  97.916667  object\n",
       "Краткое описание                     1385  96.180556  object\n",
       "Наименование                         1218  84.583333  object\n",
       "Количество оценок                     953  66.180556  object\n",
       "Дата публикации                       940  65.277778  object\n",
       "Количество отзывов                    366  25.416667  object\n",
       "Рейтинг                                24   1.666667  object"
      ]
     },
     "metadata": {},
     "output_type": "display_data"
    }
   ],
   "source": [
    "def display_dtypes(df):\n",
    "    df_local = df\n",
    "    df_tmp = df_local#[[i for i in df_local.columns if 'datetime' in i]]\n",
    "\n",
    "    # Обзор намеков на типы признаков\n",
    "    unique_values = df_tmp.nunique().sort_values(ascending=False)\n",
    "    unique_values = pd.DataFrame(unique_values, columns = ['Колич. уник. значений'])\n",
    "\n",
    "    # Довать процентовку\n",
    "    unique_values['Доля в %'] = (unique_values['Колич. уник. значений']/df_tmp.shape[0])*100\n",
    "    unique_values = pd.concat([unique_values, pd.DataFrame(df_tmp.dtypes, columns=['dtype'])], axis=1) \n",
    "    display(unique_values)\n",
    "    \n",
    "display_dtypes(df)"
   ]
  },
  {
   "cell_type": "markdown",
   "metadata": {},
   "source": [
    "**Заключение**\n",
    "\n",
    "- **'Количество оценок'**, **'Количество отзывов'**, **'Рейтинг'** имеют тип object, но являются числами;\n",
    "- Колич. уникальных значений признаков **'Краткое описание'** и **'Наименование'** намекает на наличие пропусков или/и дубликатов\n",
    "- **Дата публикации** должна быть date_time"
   ]
  },
  {
   "cell_type": "markdown",
   "metadata": {},
   "source": [
    "## 2.3 Проверка наличия дыр в данных"
   ]
  },
  {
   "cell_type": "code",
   "execution_count": 23,
   "metadata": {
    "code_folding": []
   },
   "outputs": [
    {
     "data": {
      "text/html": [
       "<div>\n",
       "<style scoped>\n",
       "    .dataframe tbody tr th:only-of-type {\n",
       "        vertical-align: middle;\n",
       "    }\n",
       "\n",
       "    .dataframe tbody tr th {\n",
       "        vertical-align: top;\n",
       "    }\n",
       "\n",
       "    .dataframe thead th {\n",
       "        text-align: right;\n",
       "    }\n",
       "</style>\n",
       "<table border=\"1\" class=\"dataframe\">\n",
       "  <thead>\n",
       "    <tr style=\"text-align: right;\">\n",
       "      <th></th>\n",
       "      <th>% miss</th>\n",
       "      <th>cnt</th>\n",
       "    </tr>\n",
       "  </thead>\n",
       "  <tbody>\n",
       "    <tr>\n",
       "      <th>Наименование</th>\n",
       "      <td>0</td>\n",
       "      <td>0</td>\n",
       "    </tr>\n",
       "    <tr>\n",
       "      <th>Краткое описание</th>\n",
       "      <td>0</td>\n",
       "      <td>0</td>\n",
       "    </tr>\n",
       "    <tr>\n",
       "      <th>Рейтинг</th>\n",
       "      <td>0</td>\n",
       "      <td>0</td>\n",
       "    </tr>\n",
       "    <tr>\n",
       "      <th>Количество оценок</th>\n",
       "      <td>0</td>\n",
       "      <td>0</td>\n",
       "    </tr>\n",
       "    <tr>\n",
       "      <th>Количество отзывов</th>\n",
       "      <td>0</td>\n",
       "      <td>0</td>\n",
       "    </tr>\n",
       "    <tr>\n",
       "      <th>page_link</th>\n",
       "      <td>0</td>\n",
       "      <td>0</td>\n",
       "    </tr>\n",
       "    <tr>\n",
       "      <th>Дата публикации</th>\n",
       "      <td>1</td>\n",
       "      <td>15</td>\n",
       "    </tr>\n",
       "  </tbody>\n",
       "</table>\n",
       "</div>"
      ],
      "text/plain": [
       "                    % miss  cnt\n",
       "Наименование             0    0\n",
       "Краткое описание         0    0\n",
       "Рейтинг                  0    0\n",
       "Количество оценок        0    0\n",
       "Количество отзывов       0    0\n",
       "page_link                0    0\n",
       "Дата публикации          1   15"
      ]
     },
     "execution_count": 23,
     "metadata": {},
     "output_type": "execute_result"
    },
    {
     "data": {
      "image/png": "[encoded data removed]",
      "text/plain": [
       "<Figure size 1800x720 with 2 Axes>"
      ]
     },
     "metadata": {
      "needs_background": "light"
     },
     "output_type": "display_data"
    }
   ],
   "source": [
    "import missingno as msno\n",
    "\n",
    "\n",
    "# Процентный список пропущенных значений\n",
    "def scan_miss_val(df: pd.DataFrame) -> pd.DataFrame:\n",
    "    '''\n",
    "    :param df:\n",
    "    :return: На выходе столбец значений =(% NAN) в признаке.\n",
    "    '''\n",
    "    # ___init___\n",
    "    miss_val_df = pd.DataFrame()\n",
    "    NA_present = 0\n",
    "\n",
    "    # Обработка каждого столбца отдельно\n",
    "    for col in df.columns:\n",
    "        pct_missing = np.mean(df[col].isnull())\n",
    "        temp = pd.DataFrame([round(pct_missing * 100)], columns=['% miss'], index=[col])\n",
    "        temp['cnt'] = df[col].isnull().sum()\n",
    "\n",
    "        miss_val_df = pd.concat([miss_val_df, temp], axis=0)\n",
    "\n",
    "        if (pct_missing != 0) & (NA_present == 0):\n",
    "            NA_present = NA_present + 1\n",
    "\n",
    "    # Построение Тепловой карты пропущенных значений\n",
    "    if NA_present != 0:\n",
    "        msno.matrix(df, labels=True, sort=\"descending\")\n",
    "\n",
    "    return miss_val_df.sort_values(by='% miss')\n",
    "\n",
    "scan_miss_val(df)"
   ]
  },
  {
   "cell_type": "markdown",
   "metadata": {},
   "source": [
    "**Заключение**\n",
    "\n",
    "- Имеются пропуски в признаке **Дата публикации**"
   ]
  },
  {
   "cell_type": "markdown",
   "metadata": {},
   "source": [
    "## 2.4 Наличие дубликатов"
   ]
  },
  {
   "cell_type": "markdown",
   "metadata": {},
   "source": [
    "Учитывая постановку задачи, проверим наличие дубликатов по признаку **'Краткое описание'**"
   ]
  },
  {
   "cell_type": "code",
   "execution_count": 24,
   "metadata": {},
   "outputs": [
    {
     "name": "stdout",
     "output_type": "stream",
     "text": [
      "Number of duplicates =  55\n"
     ]
    }
   ],
   "source": [
    "# Сканирование на наличие дубликатов\n",
    "columns_to_concider = ['Краткое описание']\n",
    "df_duplicated = df.duplicated(subset=columns_to_concider)\n",
    "\n",
    "n_duplicates = df_duplicated.sum()\n",
    "print('Number of duplicates = ', n_duplicates)"
   ]
  },
  {
   "cell_type": "markdown",
   "metadata": {},
   "source": [
    "**Заключение**\n",
    "\n",
    "- Имеются дубликаты по признакам **'Краткое описание'**,. Вероятно вызваны разным форматом книг"
   ]
  },
  {
   "cell_type": "markdown",
   "metadata": {},
   "source": [
    "## 2.5 Преобразование данных по результатам EDA"
   ]
  },
  {
   "cell_type": "markdown",
   "metadata": {},
   "source": [
    "### 2.5.1 Удаление пропусков и дубликатов"
   ]
  },
  {
   "cell_type": "code",
   "execution_count": 25,
   "metadata": {},
   "outputs": [],
   "source": [
    "df.drop_duplicates(subset = ['Краткое описание'], inplace=True)"
   ]
  },
  {
   "cell_type": "code",
   "execution_count": 26,
   "metadata": {},
   "outputs": [
    {
     "name": "stdout",
     "output_type": "stream",
     "text": [
      "Number of duplicates =  0\n"
     ]
    }
   ],
   "source": [
    "# Сканирование на наличие дубликатов\n",
    "columns_to_concider = ['Краткое описание']\n",
    "df_duplicated = df.duplicated(subset=columns_to_concider)\n",
    "\n",
    "n_duplicates = df_duplicated.sum()\n",
    "print('Number of duplicates = ', n_duplicates)"
   ]
  },
  {
   "cell_type": "code",
   "execution_count": 27,
   "metadata": {},
   "outputs": [],
   "source": [
    "df.dropna(subset=['Дата публикации'], inplace=True)"
   ]
  },
  {
   "cell_type": "code",
   "execution_count": 28,
   "metadata": {},
   "outputs": [
    {
     "data": {
      "text/html": [
       "<div>\n",
       "<style scoped>\n",
       "    .dataframe tbody tr th:only-of-type {\n",
       "        vertical-align: middle;\n",
       "    }\n",
       "\n",
       "    .dataframe tbody tr th {\n",
       "        vertical-align: top;\n",
       "    }\n",
       "\n",
       "    .dataframe thead th {\n",
       "        text-align: right;\n",
       "    }\n",
       "</style>\n",
       "<table border=\"1\" class=\"dataframe\">\n",
       "  <thead>\n",
       "    <tr style=\"text-align: right;\">\n",
       "      <th></th>\n",
       "      <th>% miss</th>\n",
       "      <th>cnt</th>\n",
       "    </tr>\n",
       "  </thead>\n",
       "  <tbody>\n",
       "    <tr>\n",
       "      <th>Наименование</th>\n",
       "      <td>0</td>\n",
       "      <td>0</td>\n",
       "    </tr>\n",
       "    <tr>\n",
       "      <th>Краткое описание</th>\n",
       "      <td>0</td>\n",
       "      <td>0</td>\n",
       "    </tr>\n",
       "    <tr>\n",
       "      <th>Рейтинг</th>\n",
       "      <td>0</td>\n",
       "      <td>0</td>\n",
       "    </tr>\n",
       "    <tr>\n",
       "      <th>Количество оценок</th>\n",
       "      <td>0</td>\n",
       "      <td>0</td>\n",
       "    </tr>\n",
       "    <tr>\n",
       "      <th>Дата публикации</th>\n",
       "      <td>0</td>\n",
       "      <td>0</td>\n",
       "    </tr>\n",
       "    <tr>\n",
       "      <th>Количество отзывов</th>\n",
       "      <td>0</td>\n",
       "      <td>0</td>\n",
       "    </tr>\n",
       "    <tr>\n",
       "      <th>page_link</th>\n",
       "      <td>0</td>\n",
       "      <td>0</td>\n",
       "    </tr>\n",
       "  </tbody>\n",
       "</table>\n",
       "</div>"
      ],
      "text/plain": [
       "                    % miss  cnt\n",
       "Наименование             0    0\n",
       "Краткое описание         0    0\n",
       "Рейтинг                  0    0\n",
       "Количество оценок        0    0\n",
       "Дата публикации          0    0\n",
       "Количество отзывов       0    0\n",
       "page_link                0    0"
      ]
     },
     "execution_count": 28,
     "metadata": {},
     "output_type": "execute_result"
    }
   ],
   "source": [
    "scan_miss_val(df)"
   ]
  },
  {
   "cell_type": "code",
   "execution_count": 29,
   "metadata": {},
   "outputs": [],
   "source": [
    "df.reset_index(drop=True, inplace=True)"
   ]
  },
  {
   "cell_type": "markdown",
   "metadata": {},
   "source": [
    "### 2.5.2 Преобразование типов"
   ]
  },
  {
   "cell_type": "markdown",
   "metadata": {},
   "source": [
    "Приведем признаки **Количество отзывов**, **Рейтинг**, **Количество оценок** к числовому типу"
   ]
  },
  {
   "cell_type": "code",
   "execution_count": 30,
   "metadata": {},
   "outputs": [],
   "source": [
    "def str_to_digit(x):\n",
    "    \n",
    "    if ((str(x).find('K')) or (str(x).find(','))) == -1:\n",
    "        \n",
    "        try:\n",
    "            out = float(x)\n",
    "        except:\n",
    "            out = x\n",
    "    else:\n",
    "        try:\n",
    "            out = str(x)\n",
    "            for symbol in ',K':\n",
    "                out = out.replace(symbol, '')\n",
    "            out = float(out)*1000\n",
    "        except:\n",
    "            out = x\n",
    "            \n",
    "    return out"
   ]
  },
  {
   "cell_type": "code",
   "execution_count": 31,
   "metadata": {},
   "outputs": [],
   "source": [
    "def transform_to_digit (df: pd.DataFrame, columns: list):\n",
    "    df_temp = df.copy()\n",
    "    for col in columns:\n",
    "        df_temp[col] = df_temp[col].apply(lambda x: str_to_digit(x))\n",
    "        condition = df_temp['Количество отзывов'].apply(lambda x: True if type(x) is not float else False)\n",
    "        print(f'Обработка признака: {col}')\n",
    "        print(f'Пропущено значений: {df_temp[condition].shape[0]}')\n",
    "        print('\\n')\n",
    "    \n",
    "    return df_temp"
   ]
  },
  {
   "cell_type": "code",
   "execution_count": 32,
   "metadata": {},
   "outputs": [
    {
     "name": "stdout",
     "output_type": "stream",
     "text": [
      "Обработка признака: Количество отзывов\n",
      "Пропущено значений: 0\n",
      "\n",
      "\n",
      "Обработка признака: Рейтинг\n",
      "Пропущено значений: 0\n",
      "\n",
      "\n",
      "Обработка признака: Количество оценок\n",
      "Пропущено значений: 0\n",
      "\n",
      "\n",
      "<class 'pandas.core.frame.DataFrame'>\n",
      "RangeIndex: 1373 entries, 0 to 1372\n",
      "Data columns (total 7 columns):\n",
      " #   Column              Non-Null Count  Dtype  \n",
      "---  ------              --------------  -----  \n",
      " 0   Наименование        1373 non-null   object \n",
      " 1   Краткое описание    1373 non-null   object \n",
      " 2   Рейтинг             1373 non-null   float64\n",
      " 3   Количество оценок   1373 non-null   float64\n",
      " 4   Дата публикации     1373 non-null   object \n",
      " 5   Количество отзывов  1373 non-null   float64\n",
      " 6   page_link           1373 non-null   object \n",
      "dtypes: float64(3), object(4)\n",
      "memory usage: 75.2+ KB\n"
     ]
    }
   ],
   "source": [
    "df_temp = transform_to_digit (df, columns = ['Количество отзывов', 'Рейтинг', 'Количество оценок'])\n",
    "df_temp.info()"
   ]
  },
  {
   "cell_type": "code",
   "execution_count": 33,
   "metadata": {
    "id": "9jDW-zBWFugt"
   },
   "outputs": [],
   "source": [
    "df = df_temp.copy()\n",
    "df.reset_index(drop=True, inplace=True)"
   ]
  },
  {
   "cell_type": "markdown",
   "metadata": {},
   "source": [
    "Удалим записи, у которых нет оценок"
   ]
  },
  {
   "cell_type": "code",
   "execution_count": 34,
   "metadata": {},
   "outputs": [],
   "source": [
    "cond = df['Количество оценок'] < 1\n",
    "df.drop(index=df[cond].index, inplace=True)"
   ]
  },
  {
   "cell_type": "markdown",
   "metadata": {},
   "source": [
    "Теперь преобразуем признак **Дата публикации** к date_time"
   ]
  },
  {
   "cell_type": "code",
   "execution_count": 35,
   "metadata": {
    "code_folding": [
     0,
     20
    ]
   },
   "outputs": [],
   "source": [
    "def to_date_time(x):\n",
    "    try:\n",
    "        dictionary = {'января': '01',\n",
    "                      'февраля': '02',\n",
    "                      'марта': '03',\n",
    "                      'апреля': '04',\n",
    "                      'мая': '05',\n",
    "                      'июня': '06',\n",
    "                      'июля': '07',\n",
    "                      'августа': '08',\n",
    "                      'сентября': '09',\n",
    "                      'октября': '10',\n",
    "                      'ноября': '11',\n",
    "                      'декабря': '12'}\n",
    "\n",
    "        spisok = x.split()\n",
    "        spisok[1] = spisok[1].replace(spisok[1], dictionary[spisok[1]])\n",
    "        spisok = '-'.join(spisok)\n",
    "        spisok = pd.to_datetime(spisok,\n",
    "                   format='%d-%m-%Y')\n",
    "    except:\n",
    "        spisok = x\n",
    "    \n",
    "    return spisok"
   ]
  },
  {
   "cell_type": "code",
   "execution_count": 36,
   "metadata": {},
   "outputs": [],
   "source": [
    "df['Дата публикации'] = df['Дата публикации'].apply(lambda x: to_date_time(x))"
   ]
  },
  {
   "cell_type": "code",
   "execution_count": 37,
   "metadata": {},
   "outputs": [
    {
     "data": {
      "text/plain": [
       "0   2019-02-16\n",
       "1   2021-07-15\n",
       "2   2024-02-14\n",
       "3   2024-02-21\n",
       "4   2022-09-08\n",
       "Name: Дата публикации, dtype: datetime64[ns]"
      ]
     },
     "execution_count": 37,
     "metadata": {},
     "output_type": "execute_result"
    }
   ],
   "source": [
    "df['Дата публикации'].head()"
   ]
  },
  {
   "cell_type": "markdown",
   "metadata": {},
   "source": [
    "**Заключение**\n",
    " - Все дубликаты удалены;\n",
    " - Удалены записи, по которым отсутствуют оценки;\n",
    " - Преобразованы типы данных для признаков **Количество отзывов**, **Рейтинг**, **Количество оценок** и **Дата публикации**"
   ]
  },
  {
   "cell_type": "markdown",
   "metadata": {},
   "source": [
    "Сохраним обработанный датасет в файл"
   ]
  },
  {
   "cell_type": "code",
   "execution_count": 38,
   "metadata": {},
   "outputs": [],
   "source": [
    "df.to_pickle('../data/df_prepeared.pkl')"
   ]
  },
  {
   "cell_type": "markdown",
   "metadata": {},
   "source": [
    "# 3. NLP"
   ]
  },
  {
   "cell_type": "code",
   "execution_count": 7,
   "metadata": {},
   "outputs": [
    {
     "name": "stdout",
     "output_type": "stream",
     "text": [
      "Requirement already satisfied: pymorphy2 in c:\\users\\kps\\appdata\\local\\programs\\python\\python310\\lib\\site-packages (0.9.1)\n",
      "Requirement already satisfied: docopt>=0.6 in c:\\users\\kps\\appdata\\local\\programs\\python\\python310\\lib\\site-packages (from pymorphy2) (0.6.2)\n",
      "Requirement already satisfied: dawg-python>=0.7.1 in c:\\users\\kps\\appdata\\local\\programs\\python\\python310\\lib\\site-packages (from pymorphy2) (0.7.2)\n",
      "Requirement already satisfied: pymorphy2-dicts-ru<3.0,>=2.4 in c:\\users\\kps\\appdata\\local\\programs\\python\\python310\\lib\\site-packages (from pymorphy2) (2.4.417127.4579844)\n",
      "\n",
      "[notice] A new release of pip available: 22.1.2 -> 24.0\n",
      "[notice] To update, run: python.exe -m pip install --upgrade pip\n"
     ]
    }
   ],
   "source": [
    "%matplotlib inline\n",
    "! pip install pymorphy2\n",
    "import matplotlib.pyplot as plt\n",
    "import numpy as np\n",
    "import pandas as pd\n",
    "import json\n",
    "from tqdm import tqdm\n",
    "from sklearn.metrics import *\n",
    "import warnings\n",
    "warnings.filterwarnings(\"ignore\")"
   ]
  },
  {
   "cell_type": "code",
   "execution_count": 8,
   "metadata": {},
   "outputs": [],
   "source": [
    "import nltk   # Natural Language Toolkit"
   ]
  },
  {
   "cell_type": "markdown",
   "metadata": {},
   "source": [
    "## 3.1 Загрузим данные"
   ]
  },
  {
   "cell_type": "markdown",
   "metadata": {},
   "source": [
    "Загрузим наши обработанные данные"
   ]
  },
  {
   "cell_type": "code",
   "execution_count": 9,
   "metadata": {},
   "outputs": [
    {
     "data": {
      "text/html": [
       "<div>\n",
       "<style scoped>\n",
       "    .dataframe tbody tr th:only-of-type {\n",
       "        vertical-align: middle;\n",
       "    }\n",
       "\n",
       "    .dataframe tbody tr th {\n",
       "        vertical-align: top;\n",
       "    }\n",
       "\n",
       "    .dataframe thead th {\n",
       "        text-align: right;\n",
       "    }\n",
       "</style>\n",
       "<table border=\"1\" class=\"dataframe\">\n",
       "  <thead>\n",
       "    <tr style=\"text-align: right;\">\n",
       "      <th></th>\n",
       "      <th>Наименование</th>\n",
       "      <th>Краткое описание</th>\n",
       "      <th>Рейтинг</th>\n",
       "      <th>Количество оценок</th>\n",
       "      <th>Дата публикации</th>\n",
       "      <th>Количество отзывов</th>\n",
       "      <th>page_link</th>\n",
       "    </tr>\n",
       "  </thead>\n",
       "  <tbody>\n",
       "    <tr>\n",
       "      <th>0</th>\n",
       "      <td>Теория невероятности. Как мечтать, чтобы сбыва...</td>\n",
       "      <td>Никакой магии. Только здравый смысл, психологи...</td>\n",
       "      <td>4.8</td>\n",
       "      <td>1541.0</td>\n",
       "      <td>2019-02-16</td>\n",
       "      <td>269.0</td>\n",
       "      <td>https://www.litres.ru/book/tatyana-muzhickaya/...</td>\n",
       "    </tr>\n",
       "    <tr>\n",
       "      <th>1</th>\n",
       "      <td>Читайте людей как книгу. Как анализировать, по...</td>\n",
       "      <td>В этой книге Патрика Кинга, автора мировых бес...</td>\n",
       "      <td>4.2</td>\n",
       "      <td>456.0</td>\n",
       "      <td>2021-07-15</td>\n",
       "      <td>49.0</td>\n",
       "      <td>https://www.litres.ru/audiobook/patrik-king/ch...</td>\n",
       "    </tr>\n",
       "    <tr>\n",
       "      <th>2</th>\n",
       "      <td>Спасти чудовище</td>\n",
       "      <td>Нищая швея и граф, чье лицо изуродовано войной...</td>\n",
       "      <td>4.9</td>\n",
       "      <td>466.0</td>\n",
       "      <td>2024-02-14</td>\n",
       "      <td>112.0</td>\n",
       "      <td>https://www.litres.ru/book/ekaterina-kablukova...</td>\n",
       "    </tr>\n",
       "    <tr>\n",
       "      <th>3</th>\n",
       "      <td>Форсайт</td>\n",
       "      <td>Людям порой снится прошлое. Иногда хорошее, ин...</td>\n",
       "      <td>4.5</td>\n",
       "      <td>165.0</td>\n",
       "      <td>2024-02-21</td>\n",
       "      <td>23.0</td>\n",
       "      <td>https://www.litres.ru/book/sergey-lukyanenko/f...</td>\n",
       "    </tr>\n",
       "    <tr>\n",
       "      <th>4</th>\n",
       "      <td>Перестаньте угождать людям. Будьте ассертивным...</td>\n",
       "      <td>Угодничество не зря называют болезнью. Оно мож...</td>\n",
       "      <td>4.3</td>\n",
       "      <td>160.0</td>\n",
       "      <td>2022-09-08</td>\n",
       "      <td>32.0</td>\n",
       "      <td>https://www.litres.ru/book/patrik-king/peresta...</td>\n",
       "    </tr>\n",
       "  </tbody>\n",
       "</table>\n",
       "</div>"
      ],
      "text/plain": [
       "                                        Наименование  \\\n",
       "0  Теория невероятности. Как мечтать, чтобы сбыва...   \n",
       "1  Читайте людей как книгу. Как анализировать, по...   \n",
       "2                                    Спасти чудовище   \n",
       "3                                            Форсайт   \n",
       "4  Перестаньте угождать людям. Будьте ассертивным...   \n",
       "\n",
       "                                    Краткое описание  Рейтинг  \\\n",
       "0  Никакой магии. Только здравый смысл, психологи...      4.8   \n",
       "1  В этой книге Патрика Кинга, автора мировых бес...      4.2   \n",
       "2  Нищая швея и граф, чье лицо изуродовано войной...      4.9   \n",
       "3  Людям порой снится прошлое. Иногда хорошее, ин...      4.5   \n",
       "4  Угодничество не зря называют болезнью. Оно мож...      4.3   \n",
       "\n",
       "   Количество оценок Дата публикации  Количество отзывов  \\\n",
       "0             1541.0      2019-02-16               269.0   \n",
       "1              456.0      2021-07-15                49.0   \n",
       "2              466.0      2024-02-14               112.0   \n",
       "3              165.0      2024-02-21                23.0   \n",
       "4              160.0      2022-09-08                32.0   \n",
       "\n",
       "                                           page_link  \n",
       "0  https://www.litres.ru/book/tatyana-muzhickaya/...  \n",
       "1  https://www.litres.ru/audiobook/patrik-king/ch...  \n",
       "2  https://www.litres.ru/book/ekaterina-kablukova...  \n",
       "3  https://www.litres.ru/book/sergey-lukyanenko/f...  \n",
       "4  https://www.litres.ru/book/patrik-king/peresta...  "
      ]
     },
     "metadata": {},
     "output_type": "display_data"
    },
    {
     "name": "stdout",
     "output_type": "stream",
     "text": [
      "<class 'pandas.core.frame.DataFrame'>\n",
      "Int64Index: 1342 entries, 0 to 1372\n",
      "Data columns (total 7 columns):\n",
      " #   Column              Non-Null Count  Dtype         \n",
      "---  ------              --------------  -----         \n",
      " 0   Наименование        1342 non-null   object        \n",
      " 1   Краткое описание    1342 non-null   object        \n",
      " 2   Рейтинг             1342 non-null   float64       \n",
      " 3   Количество оценок   1342 non-null   float64       \n",
      " 4   Дата публикации     1342 non-null   datetime64[ns]\n",
      " 5   Количество отзывов  1342 non-null   float64       \n",
      " 6   page_link           1342 non-null   object        \n",
      "dtypes: datetime64[ns](1), float64(3), object(3)\n",
      "memory usage: 83.9+ KB\n"
     ]
    },
    {
     "data": {
      "text/plain": [
       "None"
      ]
     },
     "metadata": {},
     "output_type": "display_data"
    }
   ],
   "source": [
    "df = pd.read_pickle('../data/df_prepeared.pkl')\n",
    "display(df.head())\n",
    "display(df.info())"
   ]
  },
  {
   "cell_type": "markdown",
   "metadata": {},
   "source": [
    "Отлично данные загружены, форматы подходят к обработке"
   ]
  },
  {
   "cell_type": "markdown",
   "metadata": {},
   "source": [
    "## 3.2 Шаг 1. Токенизация"
   ]
  },
  {
   "cell_type": "code",
   "execution_count": 10,
   "metadata": {},
   "outputs": [],
   "source": [
    "word_tokenizer = nltk.WordPunctTokenizer()"
   ]
  },
  {
   "cell_type": "markdown",
   "metadata": {},
   "source": [
    "Проведем токенизацию на содержании признака **Краткое описание** первой записи"
   ]
  },
  {
   "cell_type": "code",
   "execution_count": 11,
   "metadata": {},
   "outputs": [
    {
     "data": {
      "text/plain": [
       "'Людям порой снится прошлое. Иногда хорошее, иногда не очень… Но что делать, если тебе начинает сниться будущее? И в нем ничего хорошего нет совсем.'"
      ]
     },
     "execution_count": 11,
     "metadata": {},
     "output_type": "execute_result"
    }
   ],
   "source": [
    "df.iloc[[3]]['Краткое описание'].values[0]"
   ]
  },
  {
   "cell_type": "markdown",
   "metadata": {},
   "source": [
    "Сформируем свой (дополнительный) списко стоп-слов из всех имеющихся записей"
   ]
  },
  {
   "cell_type": "code",
   "execution_count": 12,
   "metadata": {},
   "outputs": [],
   "source": [
    "stop_df = pd.DataFrame()\n",
    "for i in range(df.shape[0]):\n",
    "    tokens = word_tokenizer.tokenize(df.iloc[[i]]['Краткое описание'].values[0])\n",
    "    \n",
    "    df_tokens = pd.DataFrame(tokens)\n",
    "    df_tokens['len'] = df_tokens[0].apply(lambda x: len(x))\n",
    "    \n",
    "    \n",
    "    stop_df = pd.concat([stop_df, df_tokens[df_tokens['len']<4][0]], ignore_index=True)\n",
    "\n",
    "my_stop_w = list(stop_df[0].apply(lambda x: x.lower()))"
   ]
  },
  {
   "cell_type": "code",
   "execution_count": 13,
   "metadata": {},
   "outputs": [
    {
     "data": {
      "text/plain": [
       "['.', ',', 'и', '-', 'в', '.', '–', ',', 'и', '–']"
      ]
     },
     "metadata": {},
     "output_type": "display_data"
    },
    {
     "data": {
      "text/plain": [
       "['вот', '-', 'вот', 'с', '.', ',', 'и', 'без', 'еще', '.']"
      ]
     },
     "metadata": {},
     "output_type": "display_data"
    }
   ],
   "source": [
    "display(my_stop_w[:10])\n",
    "display(my_stop_w[-10:])"
   ]
  },
  {
   "cell_type": "markdown",
   "metadata": {},
   "source": [
    "## 3.3 Шаг 2. Удаляем стоп-слова"
   ]
  },
  {
   "cell_type": "markdown",
   "metadata": {},
   "source": [
    "Сначала загрузим список стоп-слов из словаря"
   ]
  },
  {
   "cell_type": "code",
   "execution_count": 14,
   "metadata": {},
   "outputs": [
    {
     "name": "stdout",
     "output_type": "stream",
     "text": [
      "151\n",
      "['и', 'в', 'во', 'не', 'что', 'он', 'на', 'я', 'с', 'со']\n"
     ]
    },
    {
     "name": "stderr",
     "output_type": "stream",
     "text": [
      "[nltk_data] Downloading package stopwords to\n",
      "[nltk_data]     C:\\Users\\KPS\\AppData\\Roaming\\nltk_data...\n",
      "[nltk_data]   Package stopwords is already up-to-date!\n"
     ]
    }
   ],
   "source": [
    "# загружаем список стоп-слов для русского\n",
    "nltk.download('stopwords')\n",
    "stop_words = nltk.corpus.stopwords.words('russian')\n",
    "\n",
    "# примеры стоп-слов\n",
    "print(len(stop_words))\n",
    "print(stop_words[:10])"
   ]
  },
  {
   "cell_type": "code",
   "execution_count": 15,
   "metadata": {},
   "outputs": [],
   "source": [
    "import re\n",
    "regex = re.compile(r'[А-Яа-яA-zёЁ-]+')\n",
    "\n",
    "def words_only(text, regex=regex):\n",
    "    try:\n",
    "        return \" \".join(regex.findall(text)).lower()\n",
    "    except:\n",
    "        return \"\""
   ]
  },
  {
   "cell_type": "code",
   "execution_count": 16,
   "metadata": {},
   "outputs": [],
   "source": [
    "import re\n",
    "from tqdm import tqdm_notebook\n",
    "regex = re.compile(r'[А-Яа-яA-zёЁ-]+')\n",
    "\n",
    "def words_only(text, regex=regex):\n",
    "    try:\n",
    "        return \" \".join(regex.findall(text)).lower()\n",
    "    except:\n",
    "        return \"\"\n",
    "\n",
    "# расширим список стоп-слов, словами, которые являеются стоп-словами в данной задаче\n",
    "all_stop_words = stop_words + my_stop_w\n",
    "\n",
    "def process_data(df):\n",
    "    \n",
    "    data = df.copy()\n",
    "    texts = []\n",
    "    targets = []\n",
    "\n",
    "    # поочередно проходим по всем новостям в списке\n",
    "        \n",
    "    for i in tqdm_notebook(range(data.shape[0])):\n",
    "        text = data.iloc[[i]]['Краткое описание'].values[0]\n",
    "\n",
    "        text_lower = words_only(text) # оставим только слова\n",
    "        tokens     = word_tokenizer.tokenize(text_lower) #разбиваем текст на слова\n",
    "\n",
    "        # удаляем пунктуацию и стоп-слова\n",
    "        tokens = [word for word in tokens if (word not in all_stop_words and not word.isnumeric())]\n",
    "\n",
    "        data['Краткое описание'].iloc[[i]] = data['Краткое описание'].iloc[[i]].apply(lambda x: tokens) # добавляем в предобработанный список\n",
    "\n",
    "    return data"
   ]
  },
  {
   "cell_type": "code",
   "execution_count": 17,
   "metadata": {},
   "outputs": [
    {
     "data": {
      "application/vnd.jupyter.widget-view+json": {
       "model_id": "5b712419a1ad46e493acd1159c7749a6",
       "version_major": 2,
       "version_minor": 0
      },
      "text/plain": [
       "  0%|          | 0/1342 [00:00<?, ?it/s]"
      ]
     },
     "metadata": {},
     "output_type": "display_data"
    }
   ],
   "source": [
    "# запускаем нашу предобработку\n",
    "df_tokened = process_data(df)"
   ]
  },
  {
   "cell_type": "code",
   "execution_count": 19,
   "metadata": {},
   "outputs": [
    {
     "data": {
      "text/html": [
       "<div>\n",
       "<style scoped>\n",
       "    .dataframe tbody tr th:only-of-type {\n",
       "        vertical-align: middle;\n",
       "    }\n",
       "\n",
       "    .dataframe tbody tr th {\n",
       "        vertical-align: top;\n",
       "    }\n",
       "\n",
       "    .dataframe thead th {\n",
       "        text-align: right;\n",
       "    }\n",
       "</style>\n",
       "<table border=\"1\" class=\"dataframe\">\n",
       "  <thead>\n",
       "    <tr style=\"text-align: right;\">\n",
       "      <th></th>\n",
       "      <th>Наименование</th>\n",
       "      <th>Краткое описание</th>\n",
       "      <th>Рейтинг</th>\n",
       "      <th>Количество оценок</th>\n",
       "      <th>Дата публикации</th>\n",
       "      <th>Количество отзывов</th>\n",
       "      <th>page_link</th>\n",
       "    </tr>\n",
       "  </thead>\n",
       "  <tbody>\n",
       "    <tr>\n",
       "      <th>0</th>\n",
       "      <td>Теория невероятности. Как мечтать, чтобы сбыва...</td>\n",
       "      <td>[никакой, магии, здравый, смысл, психология, в...</td>\n",
       "      <td>4.8</td>\n",
       "      <td>1541.0</td>\n",
       "      <td>2019-02-16</td>\n",
       "      <td>269.0</td>\n",
       "      <td>https://www.litres.ru/book/tatyana-muzhickaya/...</td>\n",
       "    </tr>\n",
       "    <tr>\n",
       "      <th>1</th>\n",
       "      <td>Читайте людей как книгу. Как анализировать, по...</td>\n",
       "      <td>[книге, патрика, кинга, автора, мировых, бестс...</td>\n",
       "      <td>4.2</td>\n",
       "      <td>456.0</td>\n",
       "      <td>2021-07-15</td>\n",
       "      <td>49.0</td>\n",
       "      <td>https://www.litres.ru/audiobook/patrik-king/ch...</td>\n",
       "    </tr>\n",
       "    <tr>\n",
       "      <th>2</th>\n",
       "      <td>Спасти чудовище</td>\n",
       "      <td>[нищая, швея, граф, лицо, изуродовано, войной,...</td>\n",
       "      <td>4.9</td>\n",
       "      <td>466.0</td>\n",
       "      <td>2024-02-14</td>\n",
       "      <td>112.0</td>\n",
       "      <td>https://www.litres.ru/book/ekaterina-kablukova...</td>\n",
       "    </tr>\n",
       "    <tr>\n",
       "      <th>3</th>\n",
       "      <td>Форсайт</td>\n",
       "      <td>[людям, порой, снится, прошлое, хорошее, очень...</td>\n",
       "      <td>4.5</td>\n",
       "      <td>165.0</td>\n",
       "      <td>2024-02-21</td>\n",
       "      <td>23.0</td>\n",
       "      <td>https://www.litres.ru/book/sergey-lukyanenko/f...</td>\n",
       "    </tr>\n",
       "    <tr>\n",
       "      <th>4</th>\n",
       "      <td>Перестаньте угождать людям. Будьте ассертивным...</td>\n",
       "      <td>[угодничество, называют, болезнью, искалечить,...</td>\n",
       "      <td>4.3</td>\n",
       "      <td>160.0</td>\n",
       "      <td>2022-09-08</td>\n",
       "      <td>32.0</td>\n",
       "      <td>https://www.litres.ru/book/patrik-king/peresta...</td>\n",
       "    </tr>\n",
       "    <tr>\n",
       "      <th>...</th>\n",
       "      <td>...</td>\n",
       "      <td>...</td>\n",
       "      <td>...</td>\n",
       "      <td>...</td>\n",
       "      <td>...</td>\n",
       "      <td>...</td>\n",
       "      <td>...</td>\n",
       "    </tr>\n",
       "    <tr>\n",
       "      <th>1368</th>\n",
       "      <td>Ящик Скиннера</td>\n",
       "      <td>[профайлер, окончания, университета, поступает...</td>\n",
       "      <td>4.9</td>\n",
       "      <td>740.0</td>\n",
       "      <td>2023-07-13</td>\n",
       "      <td>21.0</td>\n",
       "      <td>https://www.litres.ru/book/ley-mi/yaschik-skin...</td>\n",
       "    </tr>\n",
       "    <tr>\n",
       "      <th>1369</th>\n",
       "      <td>Рисунок. Основы учебного академического рисунка</td>\n",
       "      <td>[предлагаемой, книге, рассматриваются, теорети...</td>\n",
       "      <td>4.4</td>\n",
       "      <td>202.0</td>\n",
       "      <td>2017-08-23</td>\n",
       "      <td>12.0</td>\n",
       "      <td>https://www.litres.ru/book/nikolay-li-10842550...</td>\n",
       "    </tr>\n",
       "    <tr>\n",
       "      <th>1370</th>\n",
       "      <td>Договориться не проблема. Как добиваться своег...</td>\n",
       "      <td>[переговорные, техники, описанные, крисом, вос...</td>\n",
       "      <td>4.7</td>\n",
       "      <td>680.0</td>\n",
       "      <td>2017-12-20</td>\n",
       "      <td>75.0</td>\n",
       "      <td>https://www.litres.ru/book/kris-voss/dogovorit...</td>\n",
       "    </tr>\n",
       "    <tr>\n",
       "      <th>1371</th>\n",
       "      <td>Повелитель мух</td>\n",
       "      <td>[повелитель, подлинный, шедевр, мировой, литер...</td>\n",
       "      <td>4.7</td>\n",
       "      <td>939.0</td>\n",
       "      <td>2022-05-23</td>\n",
       "      <td>137.0</td>\n",
       "      <td>https://www.litres.ru/audiobook/uilyam-golding...</td>\n",
       "    </tr>\n",
       "    <tr>\n",
       "      <th>1372</th>\n",
       "      <td>Разрыв небесного шаблона</td>\n",
       "      <td>[мучаясь, ужасной, головной, боли, последнее, ...</td>\n",
       "      <td>4.4</td>\n",
       "      <td>392.0</td>\n",
       "      <td>2021-03-31</td>\n",
       "      <td>33.0</td>\n",
       "      <td>https://www.litres.ru/book/tatyana-garmash-rof...</td>\n",
       "    </tr>\n",
       "  </tbody>\n",
       "</table>\n",
       "<p>1342 rows × 7 columns</p>\n",
       "</div>"
      ],
      "text/plain": [
       "                                           Наименование  \\\n",
       "0     Теория невероятности. Как мечтать, чтобы сбыва...   \n",
       "1     Читайте людей как книгу. Как анализировать, по...   \n",
       "2                                       Спасти чудовище   \n",
       "3                                               Форсайт   \n",
       "4     Перестаньте угождать людям. Будьте ассертивным...   \n",
       "...                                                 ...   \n",
       "1368                                      Ящик Скиннера   \n",
       "1369    Рисунок. Основы учебного академического рисунка   \n",
       "1370  Договориться не проблема. Как добиваться своег...   \n",
       "1371                                     Повелитель мух   \n",
       "1372                           Разрыв небесного шаблона   \n",
       "\n",
       "                                       Краткое описание  Рейтинг  \\\n",
       "0     [никакой, магии, здравый, смысл, психология, в...      4.8   \n",
       "1     [книге, патрика, кинга, автора, мировых, бестс...      4.2   \n",
       "2     [нищая, швея, граф, лицо, изуродовано, войной,...      4.9   \n",
       "3     [людям, порой, снится, прошлое, хорошее, очень...      4.5   \n",
       "4     [угодничество, называют, болезнью, искалечить,...      4.3   \n",
       "...                                                 ...      ...   \n",
       "1368  [профайлер, окончания, университета, поступает...      4.9   \n",
       "1369  [предлагаемой, книге, рассматриваются, теорети...      4.4   \n",
       "1370  [переговорные, техники, описанные, крисом, вос...      4.7   \n",
       "1371  [повелитель, подлинный, шедевр, мировой, литер...      4.7   \n",
       "1372  [мучаясь, ужасной, головной, боли, последнее, ...      4.4   \n",
       "\n",
       "      Количество оценок Дата публикации  Количество отзывов  \\\n",
       "0                1541.0      2019-02-16               269.0   \n",
       "1                 456.0      2021-07-15                49.0   \n",
       "2                 466.0      2024-02-14               112.0   \n",
       "3                 165.0      2024-02-21                23.0   \n",
       "4                 160.0      2022-09-08                32.0   \n",
       "...                 ...             ...                 ...   \n",
       "1368              740.0      2023-07-13                21.0   \n",
       "1369              202.0      2017-08-23                12.0   \n",
       "1370              680.0      2017-12-20                75.0   \n",
       "1371              939.0      2022-05-23               137.0   \n",
       "1372              392.0      2021-03-31                33.0   \n",
       "\n",
       "                                              page_link  \n",
       "0     https://www.litres.ru/book/tatyana-muzhickaya/...  \n",
       "1     https://www.litres.ru/audiobook/patrik-king/ch...  \n",
       "2     https://www.litres.ru/book/ekaterina-kablukova...  \n",
       "3     https://www.litres.ru/book/sergey-lukyanenko/f...  \n",
       "4     https://www.litres.ru/book/patrik-king/peresta...  \n",
       "...                                                 ...  \n",
       "1368  https://www.litres.ru/book/ley-mi/yaschik-skin...  \n",
       "1369  https://www.litres.ru/book/nikolay-li-10842550...  \n",
       "1370  https://www.litres.ru/book/kris-voss/dogovorit...  \n",
       "1371  https://www.litres.ru/audiobook/uilyam-golding...  \n",
       "1372  https://www.litres.ru/book/tatyana-garmash-rof...  \n",
       "\n",
       "[1342 rows x 7 columns]"
      ]
     },
     "execution_count": 19,
     "metadata": {},
     "output_type": "execute_result"
    }
   ],
   "source": [
    "df_tokened"
   ]
  },
  {
   "cell_type": "markdown",
   "metadata": {},
   "source": [
    "Сравним результаты до обработки и после для конкретного наблюдения:"
   ]
  },
  {
   "cell_type": "code",
   "execution_count": 20,
   "metadata": {},
   "outputs": [
    {
     "name": "stdout",
     "output_type": "stream",
     "text": [
      "Краткое описание до обработки:\n",
      "-----------------------------\n"
     ]
    },
    {
     "data": {
      "text/plain": [
       "'Людям порой снится прошлое. Иногда хорошее, иногда не очень… Но что делать, если тебе начинает сниться будущее? И в нем ничего хорошего нет совсем.'"
      ]
     },
     "metadata": {},
     "output_type": "display_data"
    },
    {
     "name": "stdout",
     "output_type": "stream",
     "text": [
      "Краткое описание после обработки:\n",
      "-----------------------------\n"
     ]
    },
    {
     "data": {
      "text/plain": [
       "['людям',\n",
       " 'порой',\n",
       " 'снится',\n",
       " 'прошлое',\n",
       " 'хорошее',\n",
       " 'очень',\n",
       " 'делать',\n",
       " 'тебе',\n",
       " 'начинает',\n",
       " 'сниться',\n",
       " 'будущее',\n",
       " 'хорошего']"
      ]
     },
     "metadata": {},
     "output_type": "display_data"
    }
   ],
   "source": [
    "print('Краткое описание до обработки:')\n",
    "print('-----------------------------')\n",
    "display(df['Краткое описание'][3])\n",
    "print('Краткое описание после обработки:')\n",
    "print('-----------------------------')\n",
    "display(df_tokened['Краткое описание'][3])"
   ]
  },
  {
   "cell_type": "markdown",
   "metadata": {},
   "source": [
    "Видим, что:\n",
    "- **Краткое описание** представлено списком слов. \n",
    "- Все слова с маленькой буквы. \n",
    "- Пунктуация и стоп-слова удалены."
   ]
  },
  {
   "cell_type": "markdown",
   "metadata": {},
   "source": [
    "## 3.4 Шаг 3 . Нормализация слов"
   ]
  },
  {
   "cell_type": "markdown",
   "metadata": {},
   "source": [
    "- Существует 2 наиболее известных способа нормализации слов: **стемминг** и **лемматизация**.\n",
    "- В общих чертах они похоже, но между этими методами есть различия. В зависимости от языка и задачи тот или иной метод может быть предпочтительнее.\n",
    "\n",
    "Поэтому создадим два варианта нормализации и выберем тот, что дает наилучший результат на тесте"
   ]
  },
  {
   "cell_type": "markdown",
   "metadata": {},
   "source": [
    "### 3.4.1 Стемминг"
   ]
  },
  {
   "cell_type": "code",
   "execution_count": 21,
   "metadata": {},
   "outputs": [],
   "source": [
    "from nltk.stem.snowball import SnowballStemmer"
   ]
  },
  {
   "cell_type": "code",
   "execution_count": 22,
   "metadata": {},
   "outputs": [],
   "source": [
    "def stemming (list_of_words):\n",
    "    stemmer = SnowballStemmer(\"russian\")\n",
    "    new_list = []\n",
    "    for aword in list_of_words:\n",
    "        new_list.append(stemmer.stem(aword))\n",
    "    text = ' '.join(new_list)\n",
    "    return text"
   ]
  },
  {
   "cell_type": "code",
   "execution_count": 23,
   "metadata": {},
   "outputs": [],
   "source": [
    "df_tokened['Стемминг'] = df_tokened['Краткое описание'].apply(lambda x: stemming(x))"
   ]
  },
  {
   "cell_type": "markdown",
   "metadata": {},
   "source": [
    "Сравним результаты до обработки и после для конкретного наблюдения:"
   ]
  },
  {
   "cell_type": "code",
   "execution_count": 24,
   "metadata": {},
   "outputs": [
    {
     "name": "stdout",
     "output_type": "stream",
     "text": [
      "Краткое описание до обработки:\n",
      "-----------------------------\n"
     ]
    },
    {
     "data": {
      "text/plain": [
       "'Людям порой снится прошлое. Иногда хорошее, иногда не очень… Но что делать, если тебе начинает сниться будущее? И в нем ничего хорошего нет совсем.'"
      ]
     },
     "metadata": {},
     "output_type": "display_data"
    },
    {
     "name": "stdout",
     "output_type": "stream",
     "text": [
      "Краткое описание после обработки:\n",
      "-----------------------------\n"
     ]
    },
    {
     "data": {
      "text/plain": [
       "'люд пор снит прошл хорош очен дела теб начина снит будущ хорош'"
      ]
     },
     "metadata": {},
     "output_type": "display_data"
    }
   ],
   "source": [
    "print('Краткое описание до обработки:')\n",
    "print('-----------------------------')\n",
    "display(df['Краткое описание'][3])\n",
    "print('Краткое описание после обработки:')\n",
    "print('-----------------------------')\n",
    "display(df_tokened['Стемминг'][3])"
   ]
  },
  {
   "cell_type": "markdown",
   "metadata": {},
   "source": [
    "### 3.4.2 Лемматизация"
   ]
  },
  {
   "cell_type": "code",
   "execution_count": 28,
   "metadata": {},
   "outputs": [],
   "source": [
    "# загружаем библиотеку для лемматизации\n",
    "import pymorphy2 # Морфологический анализатор"
   ]
  },
  {
   "cell_type": "code",
   "execution_count": 29,
   "metadata": {},
   "outputs": [],
   "source": [
    "morph = pymorphy2.MorphAnalyzer()\n",
    "def lemmatization (list_of_words):\n",
    "    new_list = []\n",
    "    for aword in list_of_words:\n",
    "        new_list.append(morph.parse(aword)[0].normal_form)\n",
    "    text = ' '.join(new_list)\n",
    "    return text"
   ]
  },
  {
   "cell_type": "code",
   "execution_count": 30,
   "metadata": {},
   "outputs": [],
   "source": [
    "df_tokened['Лемматизация'] = df_tokened['Краткое описание'].apply(lambda x: lemmatization(x))"
   ]
  },
  {
   "cell_type": "code",
   "execution_count": 31,
   "metadata": {},
   "outputs": [
    {
     "name": "stdout",
     "output_type": "stream",
     "text": [
      "Краткое описание до обработки:\n",
      "-----------------------------\n"
     ]
    },
    {
     "data": {
      "text/plain": [
       "'Людям порой снится прошлое. Иногда хорошее, иногда не очень… Но что делать, если тебе начинает сниться будущее? И в нем ничего хорошего нет совсем.'"
      ]
     },
     "metadata": {},
     "output_type": "display_data"
    },
    {
     "name": "stdout",
     "output_type": "stream",
     "text": [
      "Краткое описание после Стемминга:\n",
      "-----------------------------\n"
     ]
    },
    {
     "data": {
      "text/plain": [
       "'люд пор снит прошл хорош очен дела теб начина снит будущ хорош'"
      ]
     },
     "metadata": {},
     "output_type": "display_data"
    },
    {
     "name": "stdout",
     "output_type": "stream",
     "text": [
      "Краткое описание после Лемматизации:\n",
      "-----------------------------\n"
     ]
    },
    {
     "data": {
      "text/plain": [
       "'человек порой сниться прошлое хороший очень делать ты начинать сниться будущее хороший'"
      ]
     },
     "metadata": {},
     "output_type": "display_data"
    }
   ],
   "source": [
    "print('Краткое описание до обработки:')\n",
    "print('-----------------------------')\n",
    "display(df['Краткое описание'][3])\n",
    "print('Краткое описание после Стемминга:')\n",
    "print('-----------------------------')\n",
    "display(df_tokened['Стемминг'][3])\n",
    "print('Краткое описание после Лемматизации:')\n",
    "print('-----------------------------')\n",
    "display(df_tokened['Лемматизация'][3])"
   ]
  },
  {
   "cell_type": "code",
   "execution_count": 32,
   "metadata": {},
   "outputs": [],
   "source": [
    "df_tokened.to_pickle('df_NLP.pkl')"
   ]
  },
  {
   "cell_type": "markdown",
   "metadata": {},
   "source": [
    "# 4. Моделирование"
   ]
  },
  {
   "cell_type": "markdown",
   "metadata": {},
   "source": [
    "## 4.1 Формирование целевого признака"
   ]
  },
  {
   "cell_type": "markdown",
   "metadata": {},
   "source": [
    "Посмотрим на распределения имеющихся признаков, характеризующих рейтинг"
   ]
  },
  {
   "cell_type": "code",
   "execution_count": 33,
   "metadata": {},
   "outputs": [
    {
     "data": {
      "text/plain": [
       "<AxesSubplot:>"
      ]
     },
     "execution_count": 33,
     "metadata": {},
     "output_type": "execute_result"
    },
    {
     "data": {
      "image/png": "[encoded data removed]",
      "text/plain": [
       "<Figure size 432x288 with 1 Axes>"
      ]
     },
     "metadata": {
      "needs_background": "light"
     },
     "output_type": "display_data"
    }
   ],
   "source": [
    "df_tokened['Рейтинг'].hist()"
   ]
  },
  {
   "cell_type": "code",
   "execution_count": 34,
   "metadata": {},
   "outputs": [
    {
     "data": {
      "text/plain": [
       "<AxesSubplot:>"
      ]
     },
     "execution_count": 34,
     "metadata": {},
     "output_type": "execute_result"
    },
    {
     "data": {
      "image/png": "[encoded data removed]",
      "text/plain": [
       "<Figure size 432x288 with 1 Axes>"
      ]
     },
     "metadata": {
      "needs_background": "light"
     },
     "output_type": "display_data"
    }
   ],
   "source": [
    "df_tokened['Количество оценок'].hist()"
   ]
  },
  {
   "cell_type": "markdown",
   "metadata": {},
   "source": [
    "Сначала исключим те записи, по которым прошло слишком мало времени с момента публикации"
   ]
  },
  {
   "cell_type": "code",
   "execution_count": 35,
   "metadata": {},
   "outputs": [],
   "source": [
    "cond = df_tokened['Дата публикации'] >= '2024'\n",
    "df_tokened.drop(index=df_tokened[cond].index, inplace=True)"
   ]
  },
  {
   "cell_type": "markdown",
   "metadata": {},
   "source": [
    "Построим взвешенные оценки рейтинга на основе признаков **Рейтинг** и **Количество оценок** с учетом времени, прошедшего с момента публикации"
   ]
  },
  {
   "cell_type": "code",
   "execution_count": 36,
   "metadata": {},
   "outputs": [],
   "source": [
    "def get_new_raiting (df: pd.DataFrame) -> pd.DataFrame:\n",
    "    df_temp = df.copy()\n",
    "    \n",
    "    current_date = pd.to_datetime('01-03-2024',\n",
    "                   format='%d-%m-%Y')\n",
    "    \n",
    "    df_temp['Дата публикации'] = df_temp['Дата публикации'].apply(lambda x: abs((x- current_date).total_seconds()/100))\n",
    "    df_temp['Количество оценок'] = df_temp['Количество оценок']/df_temp['Дата публикации']\n",
    "    \n",
    "    \n",
    "    df_temp['Количество оценок'] = df_temp['Количество оценок'].apply(lambda x: np.log(x))\n",
    "    df_temp['Количество оценок'] = df_temp['Количество оценок'].max()/df_temp['Количество оценок']\n",
    "    df_temp['new_raiting'] = df_temp.apply(lambda x: x['Количество оценок']*x['Рейтинг'], axis=1 )\n",
    "    \n",
    "    return pd.concat([df, df_temp[['new_raiting']]], axis=1)"
   ]
  },
  {
   "cell_type": "code",
   "execution_count": 37,
   "metadata": {},
   "outputs": [],
   "source": [
    "df = get_new_raiting(df_tokened)"
   ]
  },
  {
   "cell_type": "markdown",
   "metadata": {},
   "source": [
    "Посмотрим на новый целевой признак **new_raiting**"
   ]
  },
  {
   "cell_type": "code",
   "execution_count": 38,
   "metadata": {},
   "outputs": [
    {
     "data": {
      "text/html": [
       "<div>\n",
       "<style scoped>\n",
       "    .dataframe tbody tr th:only-of-type {\n",
       "        vertical-align: middle;\n",
       "    }\n",
       "\n",
       "    .dataframe tbody tr th {\n",
       "        vertical-align: top;\n",
       "    }\n",
       "\n",
       "    .dataframe thead th {\n",
       "        text-align: right;\n",
       "    }\n",
       "</style>\n",
       "<table border=\"1\" class=\"dataframe\">\n",
       "  <thead>\n",
       "    <tr style=\"text-align: right;\">\n",
       "      <th></th>\n",
       "      <th>Рейтинг</th>\n",
       "      <th>Количество оценок</th>\n",
       "      <th>Дата публикации</th>\n",
       "      <th>new_raiting</th>\n",
       "    </tr>\n",
       "  </thead>\n",
       "  <tbody>\n",
       "    <tr>\n",
       "      <th>71</th>\n",
       "      <td>4.9</td>\n",
       "      <td>23039.0</td>\n",
       "      <td>2022-08-13</td>\n",
       "      <td>4.900000</td>\n",
       "    </tr>\n",
       "    <tr>\n",
       "      <th>547</th>\n",
       "      <td>4.9</td>\n",
       "      <td>2354.0</td>\n",
       "      <td>2023-12-25</td>\n",
       "      <td>4.674813</td>\n",
       "    </tr>\n",
       "    <tr>\n",
       "      <th>16</th>\n",
       "      <td>4.8</td>\n",
       "      <td>1892.0</td>\n",
       "      <td>2023-12-15</td>\n",
       "      <td>4.119415</td>\n",
       "    </tr>\n",
       "    <tr>\n",
       "      <th>183</th>\n",
       "      <td>4.9</td>\n",
       "      <td>1354.0</td>\n",
       "      <td>2023-12-20</td>\n",
       "      <td>3.911406</td>\n",
       "    </tr>\n",
       "    <tr>\n",
       "      <th>27</th>\n",
       "      <td>4.9</td>\n",
       "      <td>2268.0</td>\n",
       "      <td>2023-11-01</td>\n",
       "      <td>3.908047</td>\n",
       "    </tr>\n",
       "  </tbody>\n",
       "</table>\n",
       "</div>"
      ],
      "text/plain": [
       "     Рейтинг  Количество оценок Дата публикации  new_raiting\n",
       "71       4.9            23039.0      2022-08-13     4.900000\n",
       "547      4.9             2354.0      2023-12-25     4.674813\n",
       "16       4.8             1892.0      2023-12-15     4.119415\n",
       "183      4.9             1354.0      2023-12-20     3.911406\n",
       "27       4.9             2268.0      2023-11-01     3.908047"
      ]
     },
     "metadata": {},
     "output_type": "display_data"
    },
    {
     "data": {
      "text/html": [
       "<div>\n",
       "<style scoped>\n",
       "    .dataframe tbody tr th:only-of-type {\n",
       "        vertical-align: middle;\n",
       "    }\n",
       "\n",
       "    .dataframe tbody tr th {\n",
       "        vertical-align: top;\n",
       "    }\n",
       "\n",
       "    .dataframe thead th {\n",
       "        text-align: right;\n",
       "    }\n",
       "</style>\n",
       "<table border=\"1\" class=\"dataframe\">\n",
       "  <thead>\n",
       "    <tr style=\"text-align: right;\">\n",
       "      <th></th>\n",
       "      <th>Рейтинг</th>\n",
       "      <th>Количество оценок</th>\n",
       "      <th>Дата публикации</th>\n",
       "      <th>new_raiting</th>\n",
       "    </tr>\n",
       "  </thead>\n",
       "  <tbody>\n",
       "    <tr>\n",
       "      <th>415</th>\n",
       "      <td>3.7</td>\n",
       "      <td>10.0</td>\n",
       "      <td>2018-10-29</td>\n",
       "      <td>0.939321</td>\n",
       "    </tr>\n",
       "    <tr>\n",
       "      <th>1322</th>\n",
       "      <td>3.5</td>\n",
       "      <td>2.0</td>\n",
       "      <td>2023-04-26</td>\n",
       "      <td>0.905827</td>\n",
       "    </tr>\n",
       "    <tr>\n",
       "      <th>1058</th>\n",
       "      <td>3.3</td>\n",
       "      <td>21.0</td>\n",
       "      <td>2014-10-20</td>\n",
       "      <td>0.850503</td>\n",
       "    </tr>\n",
       "    <tr>\n",
       "      <th>569</th>\n",
       "      <td>3.5</td>\n",
       "      <td>4.0</td>\n",
       "      <td>2019-11-27</td>\n",
       "      <td>0.840326</td>\n",
       "    </tr>\n",
       "    <tr>\n",
       "      <th>1092</th>\n",
       "      <td>4.0</td>\n",
       "      <td>1.0</td>\n",
       "      <td>2015-10-09</td>\n",
       "      <td>0.826311</td>\n",
       "    </tr>\n",
       "  </tbody>\n",
       "</table>\n",
       "</div>"
      ],
      "text/plain": [
       "      Рейтинг  Количество оценок Дата публикации  new_raiting\n",
       "415       3.7               10.0      2018-10-29     0.939321\n",
       "1322      3.5                2.0      2023-04-26     0.905827\n",
       "1058      3.3               21.0      2014-10-20     0.850503\n",
       "569       3.5                4.0      2019-11-27     0.840326\n",
       "1092      4.0                1.0      2015-10-09     0.826311"
      ]
     },
     "metadata": {},
     "output_type": "display_data"
    }
   ],
   "source": [
    "df_temp = df[['Рейтинг', 'Количество оценок', 'Дата публикации', 'new_raiting']].sort_values(by='new_raiting', ascending=False)\n",
    "display(df_temp.head())\n",
    "display(df_temp.tail())"
   ]
  },
  {
   "cell_type": "code",
   "execution_count": 39,
   "metadata": {},
   "outputs": [
    {
     "data": {
      "text/plain": [
       "<AxesSubplot:>"
      ]
     },
     "execution_count": 39,
     "metadata": {},
     "output_type": "execute_result"
    },
    {
     "data": {
      "image/png": "[encoded data removed]",
      "text/plain": [
       "<Figure size 432x288 with 1 Axes>"
      ]
     },
     "metadata": {
      "needs_background": "light"
     },
     "output_type": "display_data"
    }
   ],
   "source": [
    "df['new_raiting'].hist()"
   ]
  },
  {
   "cell_type": "markdown",
   "metadata": {},
   "source": [
    "Отлично, новый целевой признак сформирован"
   ]
  },
  {
   "cell_type": "markdown",
   "metadata": {},
   "source": [
    "## 4.2 train_test"
   ]
  },
  {
   "cell_type": "markdown",
   "metadata": {},
   "source": [
    "Разделим наш датасет на обучающую и тестовую выборку"
   ]
  },
  {
   "cell_type": "code",
   "execution_count": 43,
   "metadata": {},
   "outputs": [],
   "source": [
    "#train test_split\n",
    "from sklearn.model_selection import train_test_split\n",
    "train_df, test_df, train_y, test_y = train_test_split(df.drop(columns=['new_raiting']), df['new_raiting'], test_size=0.2, random_state=42, stratify = df['new_raiting_cat'])"
   ]
  },
  {
   "cell_type": "markdown",
   "metadata": {},
   "source": [
    "##  4.3 Векторное представление Bag of Words"
   ]
  },
  {
   "cell_type": "markdown",
   "metadata": {},
   "source": [
    "Используем метод **Bag of Words** для преобразования текста в признаковое пространство для использования класических моделей ML"
   ]
  },
  {
   "cell_type": "markdown",
   "metadata": {},
   "source": [
    "### 4.3.1 Стемминг"
   ]
  },
  {
   "cell_type": "markdown",
   "metadata": {},
   "source": [
    "Построим пространство признаков на базе результатов номализации типа Стемминг"
   ]
  },
  {
   "cell_type": "code",
   "execution_count": 44,
   "metadata": {},
   "outputs": [
    {
     "data": {
      "text/plain": [
       "array(['автор', 'аудиокниг', 'бестселлер', 'бизнес', 'больш', 'важн',\n",
       "       'ваш', 'вмест', 'возможн', 'вопрос'], dtype=object)"
      ]
     },
     "execution_count": 44,
     "metadata": {},
     "output_type": "execute_result"
    }
   ],
   "source": [
    "#Инициализируем векторайзер\n",
    "from sklearn.feature_extraction.text import CountVectorizer\n",
    "vectorizer = CountVectorizer(max_features = 100)\n",
    "vectorizer.fit(list(train_df['Стемминг']))\n",
    "\n",
    "# Топ-10 слов\n",
    "vectorizer.get_feature_names_out()[:10]"
   ]
  },
  {
   "cell_type": "code",
   "execution_count": 45,
   "metadata": {},
   "outputs": [
    {
     "data": {
      "text/plain": [
       "matrix([[0, 0, 0, 0, 0, 0, 0, 1, 0, 1, 0, 1, 0, 0, 0, 0, 0, 0, 1, 0, 0,\n",
       "         0, 1, 0, 0, 0, 0, 0, 0, 1, 0, 0, 0, 0, 1, 0, 0, 1, 0, 0, 0, 0,\n",
       "         0, 0, 0, 0, 0, 0, 0, 0, 1, 0, 0, 0, 0, 0, 0, 0, 0, 0, 0, 0, 0,\n",
       "         0, 0, 0, 0, 0, 0, 0, 1, 0, 1, 1, 0, 0, 0, 0, 0, 0, 0, 0, 1, 0,\n",
       "         0, 1, 0, 0, 0, 0, 0, 0, 0, 0, 1, 0, 0, 0, 0, 0],\n",
       "        [1, 0, 0, 0, 0, 0, 0, 0, 0, 0, 0, 0, 0, 0, 0, 0, 0, 0, 0, 0, 1,\n",
       "         0, 0, 0, 1, 0, 1, 0, 0, 0, 0, 2, 0, 0, 0, 0, 0, 0, 0, 0, 0, 1,\n",
       "         0, 0, 1, 0, 0, 0, 0, 0, 0, 0, 0, 0, 0, 0, 0, 0, 0, 0, 0, 0, 0,\n",
       "         0, 0, 0, 0, 0, 0, 0, 0, 0, 1, 0, 0, 0, 0, 0, 0, 0, 0, 0, 0, 0,\n",
       "         0, 0, 0, 0, 2, 0, 0, 0, 0, 0, 0, 0, 0, 0, 0, 1]], dtype=int64)"
      ]
     },
     "execution_count": 45,
     "metadata": {},
     "output_type": "execute_result"
    }
   ],
   "source": [
    "# Обучаем vectorizer на train-данных и сразу преобразем их в вектора с помощью метода fit_transform\n",
    "stemming_train_X = vectorizer.transform(list(train_df['Стемминг']))\n",
    "stemming_train_X.todense()[:2]"
   ]
  },
  {
   "cell_type": "code",
   "execution_count": 46,
   "metadata": {},
   "outputs": [],
   "source": [
    "stemming_test_X = vectorizer.transform(list(test_df['Стемминг']))"
   ]
  },
  {
   "cell_type": "markdown",
   "metadata": {},
   "source": [
    "### 4.3.2 Лемматизация"
   ]
  },
  {
   "cell_type": "markdown",
   "metadata": {},
   "source": [
    "Построим пространство признаков на базе результатов номализации типа Лемматизация"
   ]
  },
  {
   "cell_type": "code",
   "execution_count": 47,
   "metadata": {},
   "outputs": [
    {
     "data": {
      "text/plain": [
       "array(['автор', 'аудиокнига', 'бестселлер', 'бизнес', 'быть', 'важный',\n",
       "       'ваш', 'весь', 'вместе', 'война'], dtype=object)"
      ]
     },
     "execution_count": 47,
     "metadata": {},
     "output_type": "execute_result"
    }
   ],
   "source": [
    "#Инициализируем векторайзер\n",
    "from sklearn.feature_extraction.text import CountVectorizer\n",
    "vectorizer = CountVectorizer(max_features = 100)\n",
    "vectorizer.fit(list(train_df['Лемматизация']))\n",
    "\n",
    "# Топ-10 слов\n",
    "vectorizer.get_feature_names_out()[:10]"
   ]
  },
  {
   "cell_type": "code",
   "execution_count": 48,
   "metadata": {},
   "outputs": [
    {
     "data": {
      "text/plain": [
       "matrix([[0, 0, 0, 0, 0, 0, 0, 0, 0, 0, 1, 1, 0, 0, 0, 0, 0, 0, 0, 0, 0,\n",
       "         1, 0, 1, 0, 0, 0, 0, 0, 1, 0, 0, 0, 0, 0, 1, 1, 0, 0, 0, 0, 0,\n",
       "         0, 0, 0, 0, 0, 0, 1, 0, 0, 0, 0, 0, 0, 0, 0, 0, 0, 0, 0, 0, 0,\n",
       "         0, 0, 0, 0, 0, 0, 0, 0, 1, 1, 0, 1, 0, 1, 0, 0, 0, 0, 0, 0, 0,\n",
       "         1, 1, 0, 0, 0, 0, 0, 0, 0, 0, 0, 0, 0, 0, 0, 0],\n",
       "        [1, 0, 0, 0, 0, 0, 0, 0, 0, 0, 0, 0, 0, 0, 0, 0, 0, 0, 0, 1, 0,\n",
       "         0, 0, 0, 0, 1, 0, 0, 0, 0, 0, 2, 0, 0, 0, 0, 0, 0, 0, 0, 1, 0,\n",
       "         0, 1, 0, 0, 0, 0, 0, 0, 0, 0, 0, 0, 0, 0, 0, 0, 0, 0, 0, 0, 0,\n",
       "         0, 0, 0, 0, 0, 0, 0, 0, 0, 0, 0, 0, 1, 0, 0, 0, 0, 0, 0, 0, 0,\n",
       "         0, 0, 0, 2, 0, 0, 0, 0, 0, 0, 0, 0, 0, 0, 0, 1]], dtype=int64)"
      ]
     },
     "execution_count": 48,
     "metadata": {},
     "output_type": "execute_result"
    }
   ],
   "source": [
    "# Обучаем vectorizer на train-данных и сразу преобразем их в вектора с помощью метода fit_transform\n",
    "lemm_train_X = vectorizer.transform(list(train_df['Лемматизация']))\n",
    "lemm_train_X.todense()[:2]"
   ]
  },
  {
   "cell_type": "code",
   "execution_count": 49,
   "metadata": {},
   "outputs": [],
   "source": [
    "lemm_test_X = vectorizer.transform(list(test_df['Лемматизация']))"
   ]
  },
  {
   "cell_type": "markdown",
   "metadata": {},
   "source": [
    "### 4.3.3 Строим классификатор"
   ]
  },
  {
   "cell_type": "code",
   "execution_count": 56,
   "metadata": {},
   "outputs": [],
   "source": [
    "#import алгоритма из библиотеки\n",
    "from sklearn.ensemble import RandomForestRegressor\n",
    "\n",
    "def get_fit_predict(X_train, y_train, X_test):\n",
    "    # инициализируем модель\n",
    "    clf = RandomForestRegressor(n_estimators = 1000)\n",
    "\n",
    "    # обучаем ее на тренировочных данных\n",
    "    clf = clf.fit(X_train, list(y_train))\n",
    "\n",
    "    # делаем предсказание для тестовых данных\n",
    "    pred = clf.predict(X_test)\n",
    "    \n",
    "    return pred"
   ]
  },
  {
   "cell_type": "code",
   "execution_count": 58,
   "metadata": {},
   "outputs": [],
   "source": [
    "def mean_absolute_percentage_error(y_true, y_pred): \n",
    "    return np.mean(np.abs((y_true - y_pred) / y_true)) * 100"
   ]
  },
  {
   "cell_type": "markdown",
   "metadata": {},
   "source": [
    "#### a) Стемминг"
   ]
  },
  {
   "cell_type": "code",
   "execution_count": 59,
   "metadata": {},
   "outputs": [
    {
     "data": {
      "text/plain": [
       "6.948507388509009"
      ]
     },
     "execution_count": 59,
     "metadata": {},
     "output_type": "execute_result"
    }
   ],
   "source": [
    "pred = get_fit_predict(X_train=stemming_train_X,\n",
    "                       y_train=train_y,\n",
    "                       X_test=stemming_train_X)\n",
    "mean_absolute_percentage_error(train_y, pred)"
   ]
  },
  {
   "cell_type": "code",
   "execution_count": 62,
   "metadata": {},
   "outputs": [
    {
     "data": {
      "text/plain": [
       "18.75795923457206"
      ]
     },
     "execution_count": 62,
     "metadata": {},
     "output_type": "execute_result"
    }
   ],
   "source": [
    "pred = get_fit_predict(X_train=stemming_train_X,\n",
    "                       y_train=train_y,\n",
    "                       X_test=stemming_test_X)\n",
    "mean_absolute_percentage_error(test_y, pred)"
   ]
  },
  {
   "cell_type": "markdown",
   "metadata": {},
   "source": [
    "#### b)  Лемматизация"
   ]
  },
  {
   "cell_type": "code",
   "execution_count": 63,
   "metadata": {},
   "outputs": [
    {
     "data": {
      "text/plain": [
       "6.903452979200857"
      ]
     },
     "execution_count": 63,
     "metadata": {},
     "output_type": "execute_result"
    }
   ],
   "source": [
    "pred = get_fit_predict(X_train=lemm_train_X,\n",
    "                       y_train=train_y,\n",
    "                       X_test=lemm_train_X)\n",
    "mean_absolute_percentage_error(train_y, pred)"
   ]
  },
  {
   "cell_type": "code",
   "execution_count": 64,
   "metadata": {},
   "outputs": [
    {
     "data": {
      "text/plain": [
       "18.730132790318557"
      ]
     },
     "execution_count": 64,
     "metadata": {},
     "output_type": "execute_result"
    }
   ],
   "source": [
    "pred = get_fit_predict(X_train=lemm_train_X,\n",
    "                       y_train=train_y,\n",
    "                       X_test=lemm_test_X)\n",
    "mean_absolute_percentage_error(test_y, pred)"
   ]
  },
  {
   "cell_type": "markdown",
   "metadata": {},
   "source": [
    "## 4.4 Векторное представление TF-IDF"
   ]
  },
  {
   "cell_type": "markdown",
   "metadata": {},
   "source": [
    "Используем более сложный метод **TF-IDF** для преобразования текста в признаковое пространство для использования класических моделей ML"
   ]
  },
  {
   "cell_type": "markdown",
   "metadata": {},
   "source": [
    "### 4.4.1 Стемминг"
   ]
  },
  {
   "cell_type": "markdown",
   "metadata": {},
   "source": [
    "Построим пространство признаков на базе результатов номализации типа Стемминг"
   ]
  },
  {
   "cell_type": "code",
   "execution_count": 65,
   "metadata": {},
   "outputs": [
    {
     "data": {
      "text/plain": [
       "array(['автор', 'аудиокниг', 'бестселлер', 'бизнес', 'больш', 'будущ',\n",
       "       'важн', 'ваш', 'век', 'велик'], dtype=object)"
      ]
     },
     "execution_count": 65,
     "metadata": {},
     "output_type": "execute_result"
    }
   ],
   "source": [
    "#вычисляем tf-idf\n",
    "from sklearn.feature_extraction.text import TfidfVectorizer\n",
    "# Fit TF-IDF on train texts\n",
    "vectorizer = TfidfVectorizer(max_features = 200, norm = None) # возмем топ 200 слов\n",
    "vectorizer.fit(list(train_df['Стемминг']))\n",
    "\n",
    "# Топ-10 слов\n",
    "vectorizer.get_feature_names_out()[:10]"
   ]
  },
  {
   "cell_type": "code",
   "execution_count": 66,
   "metadata": {},
   "outputs": [],
   "source": [
    "# Обучаем TF-IDF на train, а затем применяем к train и test\n",
    "stemming_train_X = vectorizer.fit_transform(list(train_df['Стемминг']))\n",
    "stemming_test_X  = vectorizer.transform(list(test_df['Стемминг']))"
   ]
  },
  {
   "cell_type": "markdown",
   "metadata": {},
   "source": [
    "### 4.4.2 Лемматизация"
   ]
  },
  {
   "cell_type": "markdown",
   "metadata": {},
   "source": [
    "Построим пространство признаков на базе результатов номализации типа Лемматизация"
   ]
  },
  {
   "cell_type": "code",
   "execution_count": 67,
   "metadata": {},
   "outputs": [
    {
     "data": {
      "text/plain": [
       "array(['автор', 'аудиокнига', 'бестселлер', 'бизнес', 'больший',\n",
       "       'будущее', 'быть', 'важный', 'ваш', 'век'], dtype=object)"
      ]
     },
     "execution_count": 67,
     "metadata": {},
     "output_type": "execute_result"
    }
   ],
   "source": [
    "#вычисляем tf-idf\n",
    "from sklearn.feature_extraction.text import TfidfVectorizer\n",
    "# Fit TF-IDF on train texts\n",
    "vectorizer = TfidfVectorizer(max_features = 200, norm = None) # возмем топ 200 слов\n",
    "vectorizer.fit(list(train_df['Лемматизация']))\n",
    "\n",
    "# Топ-10 слов\n",
    "vectorizer.get_feature_names_out()[:10]"
   ]
  },
  {
   "cell_type": "code",
   "execution_count": 68,
   "metadata": {},
   "outputs": [],
   "source": [
    "# Обучаем TF-IDF на train, а затем применяем к train и test\n",
    "lemm_train_X = vectorizer.fit_transform(list(train_df['Лемматизация']))\n",
    "lemm_test_X  = vectorizer.transform(list(test_df['Лемматизация']))"
   ]
  },
  {
   "cell_type": "markdown",
   "metadata": {},
   "source": [
    "### 4.4.3 Строим классификатор"
   ]
  },
  {
   "cell_type": "markdown",
   "metadata": {},
   "source": [
    "#### a) Стемминг"
   ]
  },
  {
   "cell_type": "code",
   "execution_count": 69,
   "metadata": {},
   "outputs": [
    {
     "data": {
      "text/plain": [
       "7.002509459444582"
      ]
     },
     "execution_count": 69,
     "metadata": {},
     "output_type": "execute_result"
    }
   ],
   "source": [
    "pred = get_fit_predict(X_train=stemming_train_X,\n",
    "                       y_train=train_y,\n",
    "                       X_test=stemming_train_X)\n",
    "mean_absolute_percentage_error(train_y, pred)"
   ]
  },
  {
   "cell_type": "code",
   "execution_count": 70,
   "metadata": {},
   "outputs": [
    {
     "data": {
      "text/plain": [
       "18.134069803566096"
      ]
     },
     "execution_count": 70,
     "metadata": {},
     "output_type": "execute_result"
    }
   ],
   "source": [
    "pred = get_fit_predict(X_train=stemming_train_X,\n",
    "                       y_train=train_y,\n",
    "                       X_test=stemming_test_X)\n",
    "mean_absolute_percentage_error(test_y, pred)"
   ]
  },
  {
   "cell_type": "markdown",
   "metadata": {},
   "source": [
    "#### b) Лемматизация"
   ]
  },
  {
   "cell_type": "code",
   "execution_count": 71,
   "metadata": {},
   "outputs": [
    {
     "data": {
      "text/plain": [
       "6.87971207989272"
      ]
     },
     "execution_count": 71,
     "metadata": {},
     "output_type": "execute_result"
    }
   ],
   "source": [
    "pred = get_fit_predict(X_train=lemm_train_X,\n",
    "                       y_train=train_y,\n",
    "                       X_test=lemm_train_X)\n",
    "mean_absolute_percentage_error(train_y, pred)"
   ]
  },
  {
   "cell_type": "code",
   "execution_count": 72,
   "metadata": {},
   "outputs": [
    {
     "data": {
      "text/plain": [
       "18.13038059319768"
      ]
     },
     "execution_count": 72,
     "metadata": {},
     "output_type": "execute_result"
    }
   ],
   "source": [
    "pred = get_fit_predict(X_train=lemm_train_X,\n",
    "                       y_train=train_y,\n",
    "                       X_test=lemm_test_X)\n",
    "mean_absolute_percentage_error(test_y, pred)"
   ]
  },
  {
   "cell_type": "markdown",
   "metadata": {},
   "source": [
    "# Заключение"
   ]
  },
  {
   "cell_type": "markdown",
   "metadata": {},
   "source": [
    "В рамках работы:\n",
    " - Написан Парсер, с помощью которго была выгружена информация о книгах с сайта ЛитРес. Сформирован датасет.\n",
    " - Проведен обзорные EDA с приведеним данных к нужному формату;\n",
    " - Сформирован целевой признак из разных статистик, выгруженных с сайта.\n",
    " - Произведена токенизация и сформирован расширенный список стоп-слов из всех текстовых описаний.\n",
    " - Произведены два типа нормализации для дальнейшего сравнения.\n",
    " - Использованы два метода формирования признаково пространства и проведено моделирование обучающей и тестовой выборки для разных вариантов нормализации.\n",
    " \n",
    "Результаты моделирования:\n",
    " - Наилучшие результаты получили при: TF-IDF с нормализацией типа Лемматизация"
   ]
  }
 ],
 "metadata": {
  "colab": {
   "provenance": []
  },
  "kernelspec": {
   "display_name": "Python 3 (ipykernel)",
   "language": "python",
   "name": "python3"
  },
  "language_info": {
   "codemirror_mode": {
    "name": "ipython",
    "version": 3
   },
   "file_extension": ".py",
   "mimetype": "text/x-python",
   "name": "python",
   "nbconvert_exporter": "python",
   "pygments_lexer": "ipython3",
   "version": "3.10.5"
  },
  "varInspector": {
   "cols": {
    "lenName": 16,
    "lenType": 16,
    "lenVar": 40
   },
   "kernels_config": {
    "python": {
     "delete_cmd_postfix": "",
     "delete_cmd_prefix": "del ",
     "library": "var_list.py",
     "varRefreshCmd": "print(var_dic_list())"
    },
    "r": {
     "delete_cmd_postfix": ") ",
     "delete_cmd_prefix": "rm(",
     "library": "var_list.r",
     "varRefreshCmd": "cat(var_dic_list()) "
    }
   },
   "types_to_exclude": [
    "module",
    "function",
    "builtin_function_or_method",
    "instance",
    "_Feature"
   ],
   "window_display": false
  },
  "widgets": {
   "application/vnd.jupyter.widget-state+json": {
    "09cfb4b502814b4b81fdf93a837660ec": {
     "model_module": "@jupyter-widgets/controls",
     "model_module_version": "1.5.0",
     "model_name": "HBoxModel",
     "state": {
      "_dom_classes": [],
      "_model_module": "@jupyter-widgets/controls",
      "_model_module_version": "1.5.0",
      "_model_name": "HBoxModel",
      "_view_count": null,
      "_view_module": "@jupyter-widgets/controls",
      "_view_module_version": "1.5.0",
      "_view_name": "HBoxView",
      "box_style": "",
      "children": [
       "IPY_MODEL_ea9baf580f604208affdd0d051e34dd9",
       "IPY_MODEL_de4ef222413c405b8cb7d755eedc2150",
       "IPY_MODEL_256e77199e824cee94fba85b8fd00bf5"
      ],
      "layout": "IPY_MODEL_d9616528fee546ea8a3d066b953e5172"
     }
    },
    "256e77199e824cee94fba85b8fd00bf5": {
     "model_module": "@jupyter-widgets/controls",
     "model_module_version": "1.5.0",
     "model_name": "HTMLModel",
     "state": {
      "_dom_classes": [],
      "_model_module": "@jupyter-widgets/controls",
      "_model_module_version": "1.5.0",
      "_model_name": "HTMLModel",
      "_view_count": null,
      "_view_module": "@jupyter-widgets/controls",
      "_view_module_version": "1.5.0",
      "_view_name": "HTMLView",
      "description": "",
      "description_tooltip": null,
      "layout": "IPY_MODEL_89ebbe461ea84679acf11a58582fe51c",
      "placeholder": "​",
      "style": "IPY_MODEL_db0b1417eef04360b0f340be80bebe77",
      "value": " 16/16 [00:00&lt;00:00, 26.44it/s]"
     }
    },
    "5f4261b7a8eb46b7b21b4a1c2f909350": {
     "model_module": "@jupyter-widgets/controls",
     "model_module_version": "1.5.0",
     "model_name": "DescriptionStyleModel",
     "state": {
      "_model_module": "@jupyter-widgets/controls",
      "_model_module_version": "1.5.0",
      "_model_name": "DescriptionStyleModel",
      "_view_count": null,
      "_view_module": "@jupyter-widgets/base",
      "_view_module_version": "1.2.0",
      "_view_name": "StyleView",
      "description_width": ""
     }
    },
    "88e5a274dca146ee8025b32104f69d8b": {
     "model_module": "@jupyter-widgets/base",
     "model_module_version": "1.2.0",
     "model_name": "LayoutModel",
     "state": {
      "_model_module": "@jupyter-widgets/base",
      "_model_module_version": "1.2.0",
      "_model_name": "LayoutModel",
      "_view_count": null,
      "_view_module": "@jupyter-widgets/base",
      "_view_module_version": "1.2.0",
      "_view_name": "LayoutView",
      "align_content": null,
      "align_items": null,
      "align_self": null,
      "border": null,
      "bottom": null,
      "display": null,
      "flex": null,
      "flex_flow": null,
      "grid_area": null,
      "grid_auto_columns": null,
      "grid_auto_flow": null,
      "grid_auto_rows": null,
      "grid_column": null,
      "grid_gap": null,
      "grid_row": null,
      "grid_template_areas": null,
      "grid_template_columns": null,
      "grid_template_rows": null,
      "height": null,
      "justify_content": null,
      "justify_items": null,
      "left": null,
      "margin": null,
      "max_height": null,
      "max_width": null,
      "min_height": null,
      "min_width": null,
      "object_fit": null,
      "object_position": null,
      "order": null,
      "overflow": null,
      "overflow_x": null,
      "overflow_y": null,
      "padding": null,
      "right": null,
      "top": null,
      "visibility": null,
      "width": null
     }
    },
    "89ebbe461ea84679acf11a58582fe51c": {
     "model_module": "@jupyter-widgets/base",
     "model_module_version": "1.2.0",
     "model_name": "LayoutModel",
     "state": {
      "_model_module": "@jupyter-widgets/base",
      "_model_module_version": "1.2.0",
      "_model_name": "LayoutModel",
      "_view_count": null,
      "_view_module": "@jupyter-widgets/base",
      "_view_module_version": "1.2.0",
      "_view_name": "LayoutView",
      "align_content": null,
      "align_items": null,
      "align_self": null,
      "border": null,
      "bottom": null,
      "display": null,
      "flex": null,
      "flex_flow": null,
      "grid_area": null,
      "grid_auto_columns": null,
      "grid_auto_flow": null,
      "grid_auto_rows": null,
      "grid_column": null,
      "grid_gap": null,
      "grid_row": null,
      "grid_template_areas": null,
      "grid_template_columns": null,
      "grid_template_rows": null,
      "height": null,
      "justify_content": null,
      "justify_items": null,
      "left": null,
      "margin": null,
      "max_height": null,
      "max_width": null,
      "min_height": null,
      "min_width": null,
      "object_fit": null,
      "object_position": null,
      "order": null,
      "overflow": null,
      "overflow_x": null,
      "overflow_y": null,
      "padding": null,
      "right": null,
      "top": null,
      "visibility": null,
      "width": null
     }
    },
    "c79984b3b0a842efb76b3b7ad841484e": {
     "model_module": "@jupyter-widgets/controls",
     "model_module_version": "1.5.0",
     "model_name": "ProgressStyleModel",
     "state": {
      "_model_module": "@jupyter-widgets/controls",
      "_model_module_version": "1.5.0",
      "_model_name": "ProgressStyleModel",
      "_view_count": null,
      "_view_module": "@jupyter-widgets/base",
      "_view_module_version": "1.2.0",
      "_view_name": "StyleView",
      "bar_color": null,
      "description_width": ""
     }
    },
    "d9616528fee546ea8a3d066b953e5172": {
     "model_module": "@jupyter-widgets/base",
     "model_module_version": "1.2.0",
     "model_name": "LayoutModel",
     "state": {
      "_model_module": "@jupyter-widgets/base",
      "_model_module_version": "1.2.0",
      "_model_name": "LayoutModel",
      "_view_count": null,
      "_view_module": "@jupyter-widgets/base",
      "_view_module_version": "1.2.0",
      "_view_name": "LayoutView",
      "align_content": null,
      "align_items": null,
      "align_self": null,
      "border": null,
      "bottom": null,
      "display": null,
      "flex": null,
      "flex_flow": null,
      "grid_area": null,
      "grid_auto_columns": null,
      "grid_auto_flow": null,
      "grid_auto_rows": null,
      "grid_column": null,
      "grid_gap": null,
      "grid_row": null,
      "grid_template_areas": null,
      "grid_template_columns": null,
      "grid_template_rows": null,
      "height": null,
      "justify_content": null,
      "justify_items": null,
      "left": null,
      "margin": null,
      "max_height": null,
      "max_width": null,
      "min_height": null,
      "min_width": null,
      "object_fit": null,
      "object_position": null,
      "order": null,
      "overflow": null,
      "overflow_x": null,
      "overflow_y": null,
      "padding": null,
      "right": null,
      "top": null,
      "visibility": null,
      "width": null
     }
    },
    "db0b1417eef04360b0f340be80bebe77": {
     "model_module": "@jupyter-widgets/controls",
     "model_module_version": "1.5.0",
     "model_name": "DescriptionStyleModel",
     "state": {
      "_model_module": "@jupyter-widgets/controls",
      "_model_module_version": "1.5.0",
      "_model_name": "DescriptionStyleModel",
      "_view_count": null,
      "_view_module": "@jupyter-widgets/base",
      "_view_module_version": "1.2.0",
      "_view_name": "StyleView",
      "description_width": ""
     }
    },
    "de4ef222413c405b8cb7d755eedc2150": {
     "model_module": "@jupyter-widgets/controls",
     "model_module_version": "1.5.0",
     "model_name": "FloatProgressModel",
     "state": {
      "_dom_classes": [],
      "_model_module": "@jupyter-widgets/controls",
      "_model_module_version": "1.5.0",
      "_model_name": "FloatProgressModel",
      "_view_count": null,
      "_view_module": "@jupyter-widgets/controls",
      "_view_module_version": "1.5.0",
      "_view_name": "ProgressView",
      "bar_style": "success",
      "description": "",
      "description_tooltip": null,
      "layout": "IPY_MODEL_88e5a274dca146ee8025b32104f69d8b",
      "max": 16,
      "min": 0,
      "orientation": "horizontal",
      "style": "IPY_MODEL_c79984b3b0a842efb76b3b7ad841484e",
      "value": 16
     }
    },
    "ea9baf580f604208affdd0d051e34dd9": {
     "model_module": "@jupyter-widgets/controls",
     "model_module_version": "1.5.0",
     "model_name": "HTMLModel",
     "state": {
      "_dom_classes": [],
      "_model_module": "@jupyter-widgets/controls",
      "_model_module_version": "1.5.0",
      "_model_name": "HTMLModel",
      "_view_count": null,
      "_view_module": "@jupyter-widgets/controls",
      "_view_module_version": "1.5.0",
      "_view_name": "HTMLView",
      "description": "",
      "description_tooltip": null,
      "layout": "IPY_MODEL_f1880de7dbc34a6381681fb40e909f60",
      "placeholder": "​",
      "style": "IPY_MODEL_5f4261b7a8eb46b7b21b4a1c2f909350",
      "value": "100%"
     }
    },
    "f1880de7dbc34a6381681fb40e909f60": {
     "model_module": "@jupyter-widgets/base",
     "model_module_version": "1.2.0",
     "model_name": "LayoutModel",
     "state": {
      "_model_module": "@jupyter-widgets/base",
      "_model_module_version": "1.2.0",
      "_model_name": "LayoutModel",
      "_view_count": null,
      "_view_module": "@jupyter-widgets/base",
      "_view_module_version": "1.2.0",
      "_view_name": "LayoutView",
      "align_content": null,
      "align_items": null,
      "align_self": null,
      "border": null,
      "bottom": null,
      "display": null,
      "flex": null,
      "flex_flow": null,
      "grid_area": null,
      "grid_auto_columns": null,
      "grid_auto_flow": null,
      "grid_auto_rows": null,
      "grid_column": null,
      "grid_gap": null,
      "grid_row": null,
      "grid_template_areas": null,
      "grid_template_columns": null,
      "grid_template_rows": null,
      "height": null,
      "justify_content": null,
      "justify_items": null,
      "left": null,
      "margin": null,
      "max_height": null,
      "max_width": null,
      "min_height": null,
      "min_width": null,
      "object_fit": null,
      "object_position": null,
      "order": null,
      "overflow": null,
      "overflow_x": null,
      "overflow_y": null,
      "padding": null,
      "right": null,
      "top": null,
      "visibility": null,
      "width": null
     }
    }
   }
  }
 },
 "nbformat": 4,
 "nbformat_minor": 1
}
