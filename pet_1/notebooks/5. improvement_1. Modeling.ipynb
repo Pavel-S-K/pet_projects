{
 "cells": [
  {
   "cell_type": "markdown",
   "metadata": {
    "id": "I-7v8M4jOLUw"
   },
   "source": [
    "# Шаг 5: Improvement_1. Modeling"
   ]
  },
  {
   "cell_type": "code",
   "execution_count": 1,
   "metadata": {},
   "outputs": [],
   "source": [
    "folder = '2. improvement_1'"
   ]
  },
  {
   "cell_type": "markdown",
   "metadata": {
    "id": "-lHE1hwDQKV1"
   },
   "source": [
    "## Импорт библиотек"
   ]
  },
  {
   "cell_type": "code",
   "execution_count": 184,
   "metadata": {},
   "outputs": [],
   "source": [
    "import warnings\n",
    "warnings.filterwarnings('ignore')\n",
    "\n",
    "import pandas as pd\n",
    "pd.set_option(\"display.max_columns\", 50)\n",
    "pd.options.display.max_rows = 20\n",
    "\n",
    "import numpy as np\n",
    "\n",
    "import seaborn as sns\n",
    "sns.set_style(\"darkgrid\")  \n",
    "sns.set_context(\"talk\", font_scale=0.6)\n",
    "\n",
    "import matplotlib\n",
    "import matplotlib.pyplot as plt\n",
    "matplotlib.rcParams.update(\n",
    "    {\"lines.linewidth\": 1, \"patch.facecolor\": \"#ebe3df\", \"axes.facecolor\": \"#ebe3df\"})\n",
    "\n",
    "from tqdm import tqdm\n",
    "from tqdm import tqdm_notebook\n",
    "\n",
    "\n",
    "import association_metrics as am"
   ]
  },
  {
   "cell_type": "code",
   "execution_count": 185,
   "metadata": {},
   "outputs": [],
   "source": [
    "from sklearn.utils import shuffle\n",
    "from sklearn.model_selection import train_test_split"
   ]
  },
  {
   "cell_type": "code",
   "execution_count": 186,
   "metadata": {},
   "outputs": [],
   "source": [
    "# Базовые модели\n",
    "from sklearn.ensemble import RandomForestClassifier\n",
    "from sklearn.linear_model import LogisticRegression\n",
    "from lightgbm import LGBMClassifier\n",
    "\n",
    "# Выбор параметров\n",
    "from sklearn.model_selection import cross_val_score, StratifiedKFold\n",
    "\n",
    "import optuna\n",
    "optuna.logging.set_verbosity(optuna.logging.ERROR)\n",
    "\n",
    "from sklearn.metrics import roc_auc_score\n",
    "from mlxtend.evaluate import bias_variance_decomp"
   ]
  },
  {
   "cell_type": "code",
   "execution_count": 187,
   "metadata": {},
   "outputs": [],
   "source": [
    "from sklearn.base import BaseEstimator, TransformerMixin"
   ]
  },
  {
   "cell_type": "code",
   "execution_count": 188,
   "metadata": {},
   "outputs": [],
   "source": [
    "from sklearn.compose import ColumnTransformer\n",
    "from sklearn.pipeline import Pipeline\n",
    "from sklearn.preprocessing import StandardScaler, OneHotEncoder\n",
    "from sklearn.impute import SimpleImputer\n",
    "import category_encoders as ce\n",
    "from sklearn.decomposition import PCA"
   ]
  },
  {
   "cell_type": "code",
   "execution_count": 189,
   "metadata": {
    "id": "KrIgIZ9Dbeme"
   },
   "outputs": [],
   "source": [
    "RANDOM_STATE = 42"
   ]
  },
  {
   "cell_type": "markdown",
   "metadata": {},
   "source": [
    "## Загрузка данных"
   ]
  },
  {
   "cell_type": "code",
   "execution_count": 190,
   "metadata": {
    "id": "C6JzzceFxvM3"
   },
   "outputs": [],
   "source": [
    "initial_X_y = pd.read_pickle('../data/initial_X_y.pkl')\n",
    "X = initial_X_y['X'].copy()\n",
    "y = initial_X_y['y'].copy()"
   ]
  },
  {
   "cell_type": "code",
   "execution_count": 191,
   "metadata": {},
   "outputs": [
    {
     "data": {
      "text/html": [
       "<div>\n",
       "<style scoped>\n",
       "    .dataframe tbody tr th:only-of-type {\n",
       "        vertical-align: middle;\n",
       "    }\n",
       "\n",
       "    .dataframe tbody tr th {\n",
       "        vertical-align: top;\n",
       "    }\n",
       "\n",
       "    .dataframe thead th {\n",
       "        text-align: right;\n",
       "    }\n",
       "</style>\n",
       "<table border=\"1\" class=\"dataframe\">\n",
       "  <thead>\n",
       "    <tr style=\"text-align: right;\">\n",
       "      <th></th>\n",
       "      <th>gender</th>\n",
       "      <th>SeniorCitizen</th>\n",
       "      <th>Partner</th>\n",
       "      <th>Dependents</th>\n",
       "      <th>tenure</th>\n",
       "      <th>PhoneService</th>\n",
       "      <th>MultipleLines</th>\n",
       "      <th>InternetService</th>\n",
       "      <th>OnlineSecurity</th>\n",
       "      <th>OnlineBackup</th>\n",
       "      <th>DeviceProtection</th>\n",
       "      <th>TechSupport</th>\n",
       "      <th>StreamingTV</th>\n",
       "      <th>StreamingMovies</th>\n",
       "      <th>Contract</th>\n",
       "      <th>PaperlessBilling</th>\n",
       "      <th>PaymentMethod</th>\n",
       "      <th>MonthlyCharges</th>\n",
       "      <th>TotalCharges</th>\n",
       "    </tr>\n",
       "  </thead>\n",
       "  <tbody>\n",
       "    <tr>\n",
       "      <th>0</th>\n",
       "      <td>Female</td>\n",
       "      <td>No</td>\n",
       "      <td>Yes</td>\n",
       "      <td>No</td>\n",
       "      <td>1.0</td>\n",
       "      <td>No</td>\n",
       "      <td>No phone service</td>\n",
       "      <td>DSL</td>\n",
       "      <td>No</td>\n",
       "      <td>Yes</td>\n",
       "      <td>No</td>\n",
       "      <td>No</td>\n",
       "      <td>No</td>\n",
       "      <td>No</td>\n",
       "      <td>Month-to-month</td>\n",
       "      <td>Yes</td>\n",
       "      <td>Electronic check</td>\n",
       "      <td>29.85</td>\n",
       "      <td>29.85</td>\n",
       "    </tr>\n",
       "    <tr>\n",
       "      <th>1</th>\n",
       "      <td>Male</td>\n",
       "      <td>No</td>\n",
       "      <td>No</td>\n",
       "      <td>No</td>\n",
       "      <td>34.0</td>\n",
       "      <td>Yes</td>\n",
       "      <td>No</td>\n",
       "      <td>DSL</td>\n",
       "      <td>Yes</td>\n",
       "      <td>No</td>\n",
       "      <td>Yes</td>\n",
       "      <td>No</td>\n",
       "      <td>No</td>\n",
       "      <td>No</td>\n",
       "      <td>One year</td>\n",
       "      <td>No</td>\n",
       "      <td>Mailed check</td>\n",
       "      <td>56.95</td>\n",
       "      <td>1889.50</td>\n",
       "    </tr>\n",
       "    <tr>\n",
       "      <th>2</th>\n",
       "      <td>Male</td>\n",
       "      <td>No</td>\n",
       "      <td>No</td>\n",
       "      <td>No</td>\n",
       "      <td>2.0</td>\n",
       "      <td>Yes</td>\n",
       "      <td>No</td>\n",
       "      <td>DSL</td>\n",
       "      <td>Yes</td>\n",
       "      <td>Yes</td>\n",
       "      <td>No</td>\n",
       "      <td>No</td>\n",
       "      <td>No</td>\n",
       "      <td>No</td>\n",
       "      <td>Month-to-month</td>\n",
       "      <td>Yes</td>\n",
       "      <td>Mailed check</td>\n",
       "      <td>53.85</td>\n",
       "      <td>108.15</td>\n",
       "    </tr>\n",
       "    <tr>\n",
       "      <th>3</th>\n",
       "      <td>Male</td>\n",
       "      <td>No</td>\n",
       "      <td>No</td>\n",
       "      <td>No</td>\n",
       "      <td>45.0</td>\n",
       "      <td>No</td>\n",
       "      <td>No phone service</td>\n",
       "      <td>DSL</td>\n",
       "      <td>Yes</td>\n",
       "      <td>No</td>\n",
       "      <td>Yes</td>\n",
       "      <td>Yes</td>\n",
       "      <td>No</td>\n",
       "      <td>No</td>\n",
       "      <td>One year</td>\n",
       "      <td>No</td>\n",
       "      <td>Bank transfer (automatic)</td>\n",
       "      <td>42.30</td>\n",
       "      <td>1840.75</td>\n",
       "    </tr>\n",
       "    <tr>\n",
       "      <th>4</th>\n",
       "      <td>Female</td>\n",
       "      <td>No</td>\n",
       "      <td>No</td>\n",
       "      <td>No</td>\n",
       "      <td>2.0</td>\n",
       "      <td>Yes</td>\n",
       "      <td>No</td>\n",
       "      <td>Fiber optic</td>\n",
       "      <td>No</td>\n",
       "      <td>No</td>\n",
       "      <td>No</td>\n",
       "      <td>No</td>\n",
       "      <td>No</td>\n",
       "      <td>No</td>\n",
       "      <td>Month-to-month</td>\n",
       "      <td>Yes</td>\n",
       "      <td>Electronic check</td>\n",
       "      <td>70.70</td>\n",
       "      <td>151.65</td>\n",
       "    </tr>\n",
       "  </tbody>\n",
       "</table>\n",
       "</div>"
      ],
      "text/plain": [
       "   gender SeniorCitizen Partner Dependents  tenure PhoneService  \\\n",
       "0  Female            No     Yes         No     1.0           No   \n",
       "1    Male            No      No         No    34.0          Yes   \n",
       "2    Male            No      No         No     2.0          Yes   \n",
       "3    Male            No      No         No    45.0           No   \n",
       "4  Female            No      No         No     2.0          Yes   \n",
       "\n",
       "      MultipleLines InternetService OnlineSecurity OnlineBackup  \\\n",
       "0  No phone service             DSL             No          Yes   \n",
       "1                No             DSL            Yes           No   \n",
       "2                No             DSL            Yes          Yes   \n",
       "3  No phone service             DSL            Yes           No   \n",
       "4                No     Fiber optic             No           No   \n",
       "\n",
       "  DeviceProtection TechSupport StreamingTV StreamingMovies        Contract  \\\n",
       "0               No          No          No              No  Month-to-month   \n",
       "1              Yes          No          No              No        One year   \n",
       "2               No          No          No              No  Month-to-month   \n",
       "3              Yes         Yes          No              No        One year   \n",
       "4               No          No          No              No  Month-to-month   \n",
       "\n",
       "  PaperlessBilling              PaymentMethod  MonthlyCharges  TotalCharges  \n",
       "0              Yes           Electronic check           29.85         29.85  \n",
       "1               No               Mailed check           56.95       1889.50  \n",
       "2              Yes               Mailed check           53.85        108.15  \n",
       "3               No  Bank transfer (automatic)           42.30       1840.75  \n",
       "4              Yes           Electronic check           70.70        151.65  "
      ]
     },
     "execution_count": 191,
     "metadata": {},
     "output_type": "execute_result"
    }
   ],
   "source": [
    "X.head()"
   ]
  },
  {
   "cell_type": "code",
   "execution_count": 192,
   "metadata": {},
   "outputs": [
    {
     "data": {
      "text/plain": [
       "0     No\n",
       "1     No\n",
       "2    Yes\n",
       "3     No\n",
       "4    Yes\n",
       "Name: Churn, dtype: object"
      ]
     },
     "execution_count": 192,
     "metadata": {},
     "output_type": "execute_result"
    }
   ],
   "source": [
    "y.head()"
   ]
  },
  {
   "cell_type": "markdown",
   "metadata": {
    "id": "hjaehTIlNkPo"
   },
   "source": [
    "## Разделение на тестовую и обучающую выборки"
   ]
  },
  {
   "cell_type": "markdown",
   "metadata": {},
   "source": [
    "Выделим категориальные и числовые признаки"
   ]
  },
  {
   "cell_type": "code",
   "execution_count": 193,
   "metadata": {},
   "outputs": [
    {
     "data": {
      "text/html": [
       "<div>\n",
       "<style scoped>\n",
       "    .dataframe tbody tr th:only-of-type {\n",
       "        vertical-align: middle;\n",
       "    }\n",
       "\n",
       "    .dataframe tbody tr th {\n",
       "        vertical-align: top;\n",
       "    }\n",
       "\n",
       "    .dataframe thead th {\n",
       "        text-align: right;\n",
       "    }\n",
       "</style>\n",
       "<table border=\"1\" class=\"dataframe\">\n",
       "  <thead>\n",
       "    <tr style=\"text-align: right;\">\n",
       "      <th></th>\n",
       "      <th>tenure</th>\n",
       "      <th>MonthlyCharges</th>\n",
       "      <th>TotalCharges</th>\n",
       "    </tr>\n",
       "  </thead>\n",
       "  <tbody>\n",
       "    <tr>\n",
       "      <th>0</th>\n",
       "      <td>1.0</td>\n",
       "      <td>29.85</td>\n",
       "      <td>29.85</td>\n",
       "    </tr>\n",
       "    <tr>\n",
       "      <th>1</th>\n",
       "      <td>34.0</td>\n",
       "      <td>56.95</td>\n",
       "      <td>1889.50</td>\n",
       "    </tr>\n",
       "    <tr>\n",
       "      <th>2</th>\n",
       "      <td>2.0</td>\n",
       "      <td>53.85</td>\n",
       "      <td>108.15</td>\n",
       "    </tr>\n",
       "  </tbody>\n",
       "</table>\n",
       "</div>"
      ],
      "text/plain": [
       "   tenure  MonthlyCharges  TotalCharges\n",
       "0     1.0           29.85         29.85\n",
       "1    34.0           56.95       1889.50\n",
       "2     2.0           53.85        108.15"
      ]
     },
     "metadata": {},
     "output_type": "display_data"
    }
   ],
   "source": [
    "numeric_cols = list(X.select_dtypes(include=[np.number]).columns)\n",
    "display(X[numeric_cols].head(3))"
   ]
  },
  {
   "cell_type": "code",
   "execution_count": 194,
   "metadata": {},
   "outputs": [
    {
     "data": {
      "text/html": [
       "<div>\n",
       "<style scoped>\n",
       "    .dataframe tbody tr th:only-of-type {\n",
       "        vertical-align: middle;\n",
       "    }\n",
       "\n",
       "    .dataframe tbody tr th {\n",
       "        vertical-align: top;\n",
       "    }\n",
       "\n",
       "    .dataframe thead th {\n",
       "        text-align: right;\n",
       "    }\n",
       "</style>\n",
       "<table border=\"1\" class=\"dataframe\">\n",
       "  <thead>\n",
       "    <tr style=\"text-align: right;\">\n",
       "      <th></th>\n",
       "      <th>gender</th>\n",
       "      <th>SeniorCitizen</th>\n",
       "      <th>Partner</th>\n",
       "      <th>Dependents</th>\n",
       "      <th>PhoneService</th>\n",
       "      <th>MultipleLines</th>\n",
       "      <th>InternetService</th>\n",
       "      <th>OnlineSecurity</th>\n",
       "      <th>OnlineBackup</th>\n",
       "      <th>DeviceProtection</th>\n",
       "      <th>TechSupport</th>\n",
       "      <th>StreamingTV</th>\n",
       "      <th>StreamingMovies</th>\n",
       "      <th>Contract</th>\n",
       "      <th>PaperlessBilling</th>\n",
       "      <th>PaymentMethod</th>\n",
       "    </tr>\n",
       "  </thead>\n",
       "  <tbody>\n",
       "    <tr>\n",
       "      <th>0</th>\n",
       "      <td>Female</td>\n",
       "      <td>No</td>\n",
       "      <td>Yes</td>\n",
       "      <td>No</td>\n",
       "      <td>No</td>\n",
       "      <td>No phone service</td>\n",
       "      <td>DSL</td>\n",
       "      <td>No</td>\n",
       "      <td>Yes</td>\n",
       "      <td>No</td>\n",
       "      <td>No</td>\n",
       "      <td>No</td>\n",
       "      <td>No</td>\n",
       "      <td>Month-to-month</td>\n",
       "      <td>Yes</td>\n",
       "      <td>Electronic check</td>\n",
       "    </tr>\n",
       "    <tr>\n",
       "      <th>1</th>\n",
       "      <td>Male</td>\n",
       "      <td>No</td>\n",
       "      <td>No</td>\n",
       "      <td>No</td>\n",
       "      <td>Yes</td>\n",
       "      <td>No</td>\n",
       "      <td>DSL</td>\n",
       "      <td>Yes</td>\n",
       "      <td>No</td>\n",
       "      <td>Yes</td>\n",
       "      <td>No</td>\n",
       "      <td>No</td>\n",
       "      <td>No</td>\n",
       "      <td>One year</td>\n",
       "      <td>No</td>\n",
       "      <td>Mailed check</td>\n",
       "    </tr>\n",
       "    <tr>\n",
       "      <th>2</th>\n",
       "      <td>Male</td>\n",
       "      <td>No</td>\n",
       "      <td>No</td>\n",
       "      <td>No</td>\n",
       "      <td>Yes</td>\n",
       "      <td>No</td>\n",
       "      <td>DSL</td>\n",
       "      <td>Yes</td>\n",
       "      <td>Yes</td>\n",
       "      <td>No</td>\n",
       "      <td>No</td>\n",
       "      <td>No</td>\n",
       "      <td>No</td>\n",
       "      <td>Month-to-month</td>\n",
       "      <td>Yes</td>\n",
       "      <td>Mailed check</td>\n",
       "    </tr>\n",
       "  </tbody>\n",
       "</table>\n",
       "</div>"
      ],
      "text/plain": [
       "   gender SeniorCitizen Partner Dependents PhoneService     MultipleLines  \\\n",
       "0  Female            No     Yes         No           No  No phone service   \n",
       "1    Male            No      No         No          Yes                No   \n",
       "2    Male            No      No         No          Yes                No   \n",
       "\n",
       "  InternetService OnlineSecurity OnlineBackup DeviceProtection TechSupport  \\\n",
       "0             DSL             No          Yes               No          No   \n",
       "1             DSL            Yes           No              Yes          No   \n",
       "2             DSL            Yes          Yes               No          No   \n",
       "\n",
       "  StreamingTV StreamingMovies        Contract PaperlessBilling  \\\n",
       "0          No              No  Month-to-month              Yes   \n",
       "1          No              No        One year               No   \n",
       "2          No              No  Month-to-month              Yes   \n",
       "\n",
       "      PaymentMethod  \n",
       "0  Electronic check  \n",
       "1      Mailed check  \n",
       "2      Mailed check  "
      ]
     },
     "metadata": {},
     "output_type": "display_data"
    }
   ],
   "source": [
    "categoric_cols = list(X.select_dtypes(exclude=[np.number]).columns)\n",
    "display(X[categoric_cols].head(3))"
   ]
  },
  {
   "cell_type": "markdown",
   "metadata": {},
   "source": [
    "Разделим исходный датасет на обучающую и тестовую выборки"
   ]
  },
  {
   "cell_type": "code",
   "execution_count": 195,
   "metadata": {},
   "outputs": [],
   "source": [
    "X, y = shuffle(X, y, random_state=RANDOM_STATE)"
   ]
  },
  {
   "cell_type": "code",
   "execution_count": 196,
   "metadata": {},
   "outputs": [
    {
     "data": {
      "text/plain": [
       "0    5174\n",
       "1    1869\n",
       "Name: Churn, dtype: int64"
      ]
     },
     "metadata": {},
     "output_type": "display_data"
    }
   ],
   "source": [
    "y = y.map({'Yes':1, 'No':0})\n",
    "\n",
    "display(y.value_counts())"
   ]
  },
  {
   "cell_type": "code",
   "execution_count": 197,
   "metadata": {},
   "outputs": [
    {
     "name": "stdout",
     "output_type": "stream",
     "text": [
      "Размер обучающей выборки: (4930, 19)\n",
      "Размер тестовой выборки:  (2113, 19)\n"
     ]
    }
   ],
   "source": [
    "X_train, X_test, y_train, y_test = train_test_split(X, y, \n",
    "                                                    test_size=0.3, \n",
    "                                                    stratify=y, \n",
    "                                                    random_state=RANDOM_STATE)\n",
    "\n",
    "print(f\"Размер обучающей выборки: {X_train.shape}\")\n",
    "print(f\"Размер тестовой выборки:  {X_test.shape}\")"
   ]
  },
  {
   "cell_type": "markdown",
   "metadata": {},
   "source": [
    "## Pipeline configurations"
   ]
  },
  {
   "cell_type": "markdown",
   "metadata": {},
   "source": [
    "#### Сформируем новый Pipeline для линейной модели класса Логистическая регрессия"
   ]
  },
  {
   "cell_type": "markdown",
   "metadata": {},
   "source": [
    "Введем следующие модификации в наш Pipeline для модели LogisticRegression:\n",
    "- 'Feature_transf' - шаг, на котором происходит преобразование признака `TotalCharges`\n",
    "- 'PCA' - введение шаг уменьшения размерности методом PCA."
   ]
  },
  {
   "cell_type": "code",
   "execution_count": 198,
   "metadata": {
    "code_folding": []
   },
   "outputs": [],
   "source": [
    "class Feature_transf(BaseEstimator, TransformerMixin):\n",
    "    \"\"\"\n",
    "    Класс преобразования признаков\n",
    "\n",
    "    \"\"\"\n",
    "\n",
    "    def __init__(self, copy=True):\n",
    "\n",
    "        self.copy = copy    \n",
    "     \n",
    "    def __TotalCharges_log(self, df: pd.Series) -> pd.DataFrame:\n",
    "    \n",
    "        '''\n",
    "            Функция дополнительной трансформации признаков:\n",
    "                1) Преобразование признака TotalCharges на log шкалу;\n",
    "        '''\n",
    "\n",
    "        p = 0.25537409875188244\n",
    "        df_local = df.copy()\n",
    "\n",
    "        # Обработка TotalCharges\n",
    "        df_local = np.where(df_local.apply(lambda x: True if (x==0 or x==np.nan) else False), 0, \n",
    "                            df_local.apply(lambda x: ((x**p) - 1)/p))\n",
    "\n",
    "        return df_local\n",
    "    \n",
    "\n",
    "    def fit(self, X, y=None):\n",
    "        # ничего не делаем )) \n",
    "        return self\n",
    "\n",
    "    def transform(self, X):\n",
    "\n",
    "        if self.copy:\n",
    "            X = X.copy()  \n",
    "           \n",
    "        X['TotalCharges']= self.__TotalCharges_log(X['TotalCharges'])\n",
    "        \n",
    "        # transform возвращает X\n",
    "        return X"
   ]
  },
  {
   "cell_type": "code",
   "execution_count": 199,
   "metadata": {},
   "outputs": [],
   "source": [
    "def get_LogReg_pipe():\n",
    "    \n",
    "    '''\n",
    "    Pipeline модели LogisticRegression\n",
    "    '''\n",
    "    \n",
    "    categoric_cols = ['gender',\n",
    "     'SeniorCitizen',\n",
    "     'Partner',\n",
    "     'Dependents',\n",
    "     'PhoneService',\n",
    "     'MultipleLines',\n",
    "     'InternetService',\n",
    "     'OnlineSecurity',\n",
    "     'OnlineBackup',\n",
    "     'DeviceProtection',\n",
    "     'TechSupport',\n",
    "     'StreamingTV',\n",
    "     'StreamingMovies',\n",
    "     'Contract',\n",
    "     'PaperlessBilling',\n",
    "     'PaymentMethod']\n",
    "\n",
    "    numeric_cols = ['tenure', 'MonthlyCharges', 'TotalCharges']\n",
    "\n",
    "\n",
    "    # Трансформер числовых признаков\n",
    "    numeric_pipe = Pipeline([\n",
    "            ('imputer', SimpleImputer()),\n",
    "            ('scaler', StandardScaler())])\n",
    "\n",
    "    # Трансформер категориальных признаков\n",
    "    categoric_pipe = Pipeline([\n",
    "            ('OHE', OneHotEncoder(sparse=False))])\n",
    "\n",
    "    transformers = [(\"numeric\", numeric_pipe, numeric_cols), \n",
    "                    (\"categoric\", categoric_pipe, categoric_cols)]\n",
    "\n",
    "    Preprocessor = Pipeline([\n",
    "                    ('Feature_transf', Feature_transf()),\n",
    "                    ('ColumnTransformer', ColumnTransformer(transformers=transformers)),\n",
    "                    ('PCA', PCA(n_components=21)),])\n",
    "\n",
    "    log_reg_pipe = Pipeline([\n",
    "            \n",
    "            ('Preprocessor', Preprocessor),\n",
    "            ('Model', LogisticRegression())])\n",
    "    \n",
    "    return log_reg_pipe"
   ]
  },
  {
   "cell_type": "raw",
   "metadata": {},
   "source": [
    "get_LogReg_pipe()"
   ]
  },
  {
   "attachments": {
    "image-2.png": {
     "image/png": "[encoded data removed]"
    }
   },
   "cell_type": "markdown",
   "metadata": {},
   "source": [
    "![image-2.png](attachment:image-2.png)"
   ]
  },
  {
   "cell_type": "markdown",
   "metadata": {},
   "source": [
    "## Поиск наилучших праметров модели"
   ]
  },
  {
   "cell_type": "markdown",
   "metadata": {},
   "source": [
    "На данном шаге будем осуществлять поиск наилучших параметров модели, при этом:\n",
    "- Поиск будет осуществляться с помощью библиотеки Optuna;\n",
    "- Поиск будет осуществляться только на обучающей (train) выборке. Финальное качество будем проверять на тестовой выборке, которая в подборе параметров и при обучении не участвовала."
   ]
  },
  {
   "cell_type": "code",
   "execution_count": 226,
   "metadata": {},
   "outputs": [],
   "source": [
    "# Создаем словари, в которые будем записывать результаты поиска оптимальных мараметров\n",
    "\n",
    "optuna_model_results = dict()   # словарь наилучших параметров\n",
    "model_scores = dict()           # словарь оценок качества на обучающей и тестовой выборках"
   ]
  },
  {
   "cell_type": "markdown",
   "metadata": {},
   "source": [
    "Подготовим функцию для проведения оценки качества на тестовой выборке"
   ]
  },
  {
   "cell_type": "code",
   "execution_count": 248,
   "metadata": {
    "code_folding": []
   },
   "outputs": [],
   "source": [
    "def test_Model(description: str, model, X_train: pd.DataFrame, y_train: pd.Series, X_test: pd.DataFrame, y_test: pd.Series):\n",
    "    \n",
    "    \n",
    "    print('\\n')\n",
    "    print(f'***{description}***')\n",
    "    \n",
    " \n",
    "    print('Step 1: Обучение')\n",
    "    results = pd.DataFrame()\n",
    "    \n",
    "    model.fit(X_train, y_train)\n",
    "    \n",
    "    print('Step 2: Предсказание на train')\n",
    "    pred = model.predict_proba(X_train)[:,1]\n",
    "    \n",
    "    train_score = roc_auc_score(y_train, pred)\n",
    "    \n",
    "    print('Step 3: Предсказание на test')\n",
    "    pred = model.predict_proba(X_test)[:,1]\n",
    "    \n",
    "    test_score = roc_auc_score(y_test, pred)\n",
    "    \n",
    "    results['train_score'] = [train_score]\n",
    "    results['test_score']  = [test_score]\n",
    "    \n",
    "    results.index = [description]\n",
    "    \n",
    "    print('***Done***')\n",
    "    return results"
   ]
  },
  {
   "cell_type": "markdown",
   "metadata": {},
   "source": [
    "#### Поиск параметров для модели LogisticRegression и оценка качества"
   ]
  },
  {
   "cell_type": "markdown",
   "metadata": {},
   "source": [
    "Посмотрим на выход этапа *Preprocessor*"
   ]
  },
  {
   "cell_type": "code",
   "execution_count": 228,
   "metadata": {},
   "outputs": [
    {
     "data": {
      "text/html": [
       "<div>\n",
       "<style scoped>\n",
       "    .dataframe tbody tr th:only-of-type {\n",
       "        vertical-align: middle;\n",
       "    }\n",
       "\n",
       "    .dataframe tbody tr th {\n",
       "        vertical-align: top;\n",
       "    }\n",
       "\n",
       "    .dataframe thead th {\n",
       "        text-align: right;\n",
       "    }\n",
       "</style>\n",
       "<table border=\"1\" class=\"dataframe\">\n",
       "  <thead>\n",
       "    <tr style=\"text-align: right;\">\n",
       "      <th></th>\n",
       "      <th>0</th>\n",
       "      <th>1</th>\n",
       "      <th>2</th>\n",
       "      <th>3</th>\n",
       "      <th>4</th>\n",
       "      <th>5</th>\n",
       "      <th>6</th>\n",
       "      <th>7</th>\n",
       "      <th>8</th>\n",
       "      <th>9</th>\n",
       "      <th>10</th>\n",
       "      <th>11</th>\n",
       "      <th>12</th>\n",
       "      <th>13</th>\n",
       "      <th>14</th>\n",
       "      <th>15</th>\n",
       "      <th>16</th>\n",
       "      <th>17</th>\n",
       "      <th>18</th>\n",
       "      <th>19</th>\n",
       "      <th>20</th>\n",
       "    </tr>\n",
       "  </thead>\n",
       "  <tbody>\n",
       "    <tr>\n",
       "      <th>0</th>\n",
       "      <td>-0.152902</td>\n",
       "      <td>0.667222</td>\n",
       "      <td>2.136858</td>\n",
       "      <td>-1.489555</td>\n",
       "      <td>0.564625</td>\n",
       "      <td>-0.216396</td>\n",
       "      <td>0.131699</td>\n",
       "      <td>0.527735</td>\n",
       "      <td>0.621745</td>\n",
       "      <td>-0.501727</td>\n",
       "      <td>0.741314</td>\n",
       "      <td>-0.841515</td>\n",
       "      <td>-0.886455</td>\n",
       "      <td>-0.601634</td>\n",
       "      <td>-0.427793</td>\n",
       "      <td>0.367973</td>\n",
       "      <td>0.087853</td>\n",
       "      <td>0.072224</td>\n",
       "      <td>-0.400113</td>\n",
       "      <td>-0.638594</td>\n",
       "      <td>0.433284</td>\n",
       "    </tr>\n",
       "    <tr>\n",
       "      <th>1</th>\n",
       "      <td>-0.205732</td>\n",
       "      <td>-2.076675</td>\n",
       "      <td>-0.593890</td>\n",
       "      <td>-0.203295</td>\n",
       "      <td>0.469138</td>\n",
       "      <td>-1.466558</td>\n",
       "      <td>-0.157996</td>\n",
       "      <td>0.303541</td>\n",
       "      <td>-0.053671</td>\n",
       "      <td>0.386597</td>\n",
       "      <td>0.169298</td>\n",
       "      <td>0.279103</td>\n",
       "      <td>-0.252598</td>\n",
       "      <td>0.051781</td>\n",
       "      <td>-0.321064</td>\n",
       "      <td>-0.104598</td>\n",
       "      <td>-0.123943</td>\n",
       "      <td>0.768560</td>\n",
       "      <td>0.040915</td>\n",
       "      <td>0.126295</td>\n",
       "      <td>0.156618</td>\n",
       "    </tr>\n",
       "    <tr>\n",
       "      <th>2</th>\n",
       "      <td>-0.650483</td>\n",
       "      <td>-1.468602</td>\n",
       "      <td>-0.973957</td>\n",
       "      <td>-0.232005</td>\n",
       "      <td>-0.602202</td>\n",
       "      <td>0.821309</td>\n",
       "      <td>0.011801</td>\n",
       "      <td>-0.511586</td>\n",
       "      <td>-0.722672</td>\n",
       "      <td>0.217664</td>\n",
       "      <td>-0.892201</td>\n",
       "      <td>0.599486</td>\n",
       "      <td>0.999118</td>\n",
       "      <td>-0.622461</td>\n",
       "      <td>-0.081634</td>\n",
       "      <td>-0.057295</td>\n",
       "      <td>-0.134157</td>\n",
       "      <td>-0.086779</td>\n",
       "      <td>-0.096977</td>\n",
       "      <td>-0.156334</td>\n",
       "      <td>-0.117050</td>\n",
       "    </tr>\n",
       "    <tr>\n",
       "      <th>3</th>\n",
       "      <td>0.310175</td>\n",
       "      <td>-0.674286</td>\n",
       "      <td>1.200580</td>\n",
       "      <td>0.239415</td>\n",
       "      <td>0.567716</td>\n",
       "      <td>-0.753808</td>\n",
       "      <td>-0.760085</td>\n",
       "      <td>0.862022</td>\n",
       "      <td>0.132267</td>\n",
       "      <td>0.684686</td>\n",
       "      <td>-0.221106</td>\n",
       "      <td>-1.157208</td>\n",
       "      <td>0.288451</td>\n",
       "      <td>0.030072</td>\n",
       "      <td>0.152246</td>\n",
       "      <td>0.023049</td>\n",
       "      <td>0.137551</td>\n",
       "      <td>0.636969</td>\n",
       "      <td>1.032587</td>\n",
       "      <td>0.415104</td>\n",
       "      <td>-0.580677</td>\n",
       "    </tr>\n",
       "    <tr>\n",
       "      <th>4</th>\n",
       "      <td>0.174881</td>\n",
       "      <td>-2.064310</td>\n",
       "      <td>-0.318364</td>\n",
       "      <td>-0.145732</td>\n",
       "      <td>0.575710</td>\n",
       "      <td>-1.017421</td>\n",
       "      <td>-0.366367</td>\n",
       "      <td>-0.075254</td>\n",
       "      <td>0.106713</td>\n",
       "      <td>0.898686</td>\n",
       "      <td>0.096767</td>\n",
       "      <td>-0.478750</td>\n",
       "      <td>-0.056159</td>\n",
       "      <td>0.290001</td>\n",
       "      <td>0.859517</td>\n",
       "      <td>-0.110230</td>\n",
       "      <td>0.117004</td>\n",
       "      <td>-0.178816</td>\n",
       "      <td>-0.444899</td>\n",
       "      <td>-0.149957</td>\n",
       "      <td>0.152060</td>\n",
       "    </tr>\n",
       "  </tbody>\n",
       "</table>\n",
       "</div>"
      ],
      "text/plain": [
       "         0         1         2         3         4         5         6   \\\n",
       "0 -0.152902  0.667222  2.136858 -1.489555  0.564625 -0.216396  0.131699   \n",
       "1 -0.205732 -2.076675 -0.593890 -0.203295  0.469138 -1.466558 -0.157996   \n",
       "2 -0.650483 -1.468602 -0.973957 -0.232005 -0.602202  0.821309  0.011801   \n",
       "3  0.310175 -0.674286  1.200580  0.239415  0.567716 -0.753808 -0.760085   \n",
       "4  0.174881 -2.064310 -0.318364 -0.145732  0.575710 -1.017421 -0.366367   \n",
       "\n",
       "         7         8         9         10        11        12        13  \\\n",
       "0  0.527735  0.621745 -0.501727  0.741314 -0.841515 -0.886455 -0.601634   \n",
       "1  0.303541 -0.053671  0.386597  0.169298  0.279103 -0.252598  0.051781   \n",
       "2 -0.511586 -0.722672  0.217664 -0.892201  0.599486  0.999118 -0.622461   \n",
       "3  0.862022  0.132267  0.684686 -0.221106 -1.157208  0.288451  0.030072   \n",
       "4 -0.075254  0.106713  0.898686  0.096767 -0.478750 -0.056159  0.290001   \n",
       "\n",
       "         14        15        16        17        18        19        20  \n",
       "0 -0.427793  0.367973  0.087853  0.072224 -0.400113 -0.638594  0.433284  \n",
       "1 -0.321064 -0.104598 -0.123943  0.768560  0.040915  0.126295  0.156618  \n",
       "2 -0.081634 -0.057295 -0.134157 -0.086779 -0.096977 -0.156334 -0.117050  \n",
       "3  0.152246  0.023049  0.137551  0.636969  1.032587  0.415104 -0.580677  \n",
       "4  0.859517 -0.110230  0.117004 -0.178816 -0.444899 -0.149957  0.152060  "
      ]
     },
     "execution_count": 228,
     "metadata": {},
     "output_type": "execute_result"
    }
   ],
   "source": [
    "pd.DataFrame(get_LogReg_pipe()['Preprocessor'].fit_transform(X_train)).head()"
   ]
  },
  {
   "cell_type": "markdown",
   "metadata": {},
   "source": [
    "Осуществим поиск наилучших параметров"
   ]
  },
  {
   "cell_type": "code",
   "execution_count": 229,
   "metadata": {
    "code_folding": []
   },
   "outputs": [],
   "source": [
    "def objective_LogReg(trial):\n",
    "    \n",
    "    \n",
    "    \n",
    "    parameters_grid = {\n",
    "                   'Model__penalty':      trial.suggest_categorical('Model__penalty', ['l2']),\n",
    "                   'Model__solver':       trial.suggest_categorical('Model__solver', ['lbfgs','liblinear']),\n",
    "                   'Model__C':            trial.suggest_float('Model__C', low=0.001, high=4, step=0.001),\n",
    "                   'Model__class_weight': trial.suggest_categorical('Model__class_weight', ['balanced', None])      \n",
    "                    }\n",
    "    \n",
    "    \n",
    "    \n",
    "    model = get_LogReg_pipe()\n",
    "    cv = StratifiedKFold(n_splits=10)\n",
    "    score = cross_val_score(model.set_params(**parameters_grid), \n",
    "                            X_train, y_train, cv=3, scoring='roc_auc', n_jobs=-1).mean()\n",
    "\n",
    "    return score"
   ]
  },
  {
   "cell_type": "code",
   "execution_count": null,
   "metadata": {},
   "outputs": [],
   "source": [
    "LogisticRegression()"
   ]
  },
  {
   "cell_type": "code",
   "execution_count": 230,
   "metadata": {},
   "outputs": [
    {
     "data": {
      "application/vnd.jupyter.widget-view+json": {
       "model_id": "5defcdbb3fc241389f771faf422b5235",
       "version_major": 2,
       "version_minor": 0
      },
      "text/plain": [
       "  0%|          | 0/500 [00:00<?, ?it/s]"
      ]
     },
     "metadata": {},
     "output_type": "display_data"
    },
    {
     "data": {
      "text/plain": [
       "{'Model__penalty': 'l2',\n",
       " 'Model__solver': 'liblinear',\n",
       " 'Model__C': 0.015,\n",
       " 'Model__class_weight': 'balanced'}"
      ]
     },
     "metadata": {},
     "output_type": "display_data"
    }
   ],
   "source": [
    "study = optuna.create_study(direction=\"maximize\")\n",
    "study.optimize(objective_LogReg, \n",
    "               n_trials=500, \n",
    "               n_jobs=-1, \n",
    "               show_progress_bar=True, )\n",
    "\n",
    "optuna_model_results['LogisticRegression'] = study.best_params\n",
    "display(study.best_params)"
   ]
  },
  {
   "cell_type": "markdown",
   "metadata": {},
   "source": [
    "Теперь оценим качество построенной модели на обучающей и тестовой выборках для:\n",
    "- модели с базовыми параметрами;\n",
    "- модели с найденными параметрами"
   ]
  },
  {
   "cell_type": "code",
   "execution_count": 234,
   "metadata": {
    "code_folding": []
   },
   "outputs": [
    {
     "name": "stdout",
     "output_type": "stream",
     "text": [
      "\n",
      "\n",
      "***LogisticRegression()***\n",
      "Step 1: Обучение\n",
      "Step 2: Предсказание на train\n",
      "Step 3: Предсказание на test\n",
      "***Done***\n"
     ]
    },
    {
     "data": {
      "text/html": [
       "<div>\n",
       "<style scoped>\n",
       "    .dataframe tbody tr th:only-of-type {\n",
       "        vertical-align: middle;\n",
       "    }\n",
       "\n",
       "    .dataframe tbody tr th {\n",
       "        vertical-align: top;\n",
       "    }\n",
       "\n",
       "    .dataframe thead th {\n",
       "        text-align: right;\n",
       "    }\n",
       "</style>\n",
       "<table border=\"1\" class=\"dataframe\">\n",
       "  <thead>\n",
       "    <tr style=\"text-align: right;\">\n",
       "      <th></th>\n",
       "      <th>train_score</th>\n",
       "      <th>test_score</th>\n",
       "    </tr>\n",
       "  </thead>\n",
       "  <tbody>\n",
       "    <tr>\n",
       "      <th>LogisticRegression()</th>\n",
       "      <td>0.851899</td>\n",
       "      <td>0.837812</td>\n",
       "    </tr>\n",
       "  </tbody>\n",
       "</table>\n",
       "</div>"
      ],
      "text/plain": [
       "                      train_score  test_score\n",
       "LogisticRegression()     0.851899    0.837812"
      ]
     },
     "execution_count": 234,
     "metadata": {},
     "output_type": "execute_result"
    }
   ],
   "source": [
    "params = {\n",
    "    'description': 'LogisticRegression()',\n",
    "    'model': get_LogReg_pipe(),\n",
    "    'X_train': X_train,\n",
    "    'y_train': y_train,\n",
    "    \n",
    "    'X_test': X_test,\n",
    "    'y_test': y_test\n",
    "}\n",
    "\n",
    "model_scores['LogReg'] = test_Model(**params)\n",
    "model_scores['LogReg']"
   ]
  },
  {
   "cell_type": "code",
   "execution_count": 235,
   "metadata": {},
   "outputs": [
    {
     "name": "stdout",
     "output_type": "stream",
     "text": [
      "\n",
      "\n",
      "***LogisticRegression(opt)***\n",
      "Step 1: Обучение\n",
      "Step 2: Предсказание на train\n",
      "Step 3: Предсказание на test\n",
      "***Done***\n"
     ]
    },
    {
     "data": {
      "text/html": [
       "<div>\n",
       "<style scoped>\n",
       "    .dataframe tbody tr th:only-of-type {\n",
       "        vertical-align: middle;\n",
       "    }\n",
       "\n",
       "    .dataframe tbody tr th {\n",
       "        vertical-align: top;\n",
       "    }\n",
       "\n",
       "    .dataframe thead th {\n",
       "        text-align: right;\n",
       "    }\n",
       "</style>\n",
       "<table border=\"1\" class=\"dataframe\">\n",
       "  <thead>\n",
       "    <tr style=\"text-align: right;\">\n",
       "      <th></th>\n",
       "      <th>train_score</th>\n",
       "      <th>test_score</th>\n",
       "    </tr>\n",
       "  </thead>\n",
       "  <tbody>\n",
       "    <tr>\n",
       "      <th>LogisticRegression(opt)</th>\n",
       "      <td>0.85158</td>\n",
       "      <td>0.837724</td>\n",
       "    </tr>\n",
       "  </tbody>\n",
       "</table>\n",
       "</div>"
      ],
      "text/plain": [
       "                         train_score  test_score\n",
       "LogisticRegression(opt)      0.85158    0.837724"
      ]
     },
     "execution_count": 235,
     "metadata": {},
     "output_type": "execute_result"
    }
   ],
   "source": [
    "params = {\n",
    "    'description': 'LogisticRegression(opt)',\n",
    "    'model': get_LogReg_pipe().set_params(**optuna_model_results['LogisticRegression']),\n",
    "    'X_train': X_train,\n",
    "    'y_train': y_train,\n",
    "    'X_test': X_test,\n",
    "    'y_test': y_test\n",
    "}\n",
    "\n",
    "model_scores['LogReg_opt'] = test_Model(**params)\n",
    "model_scores['LogReg_opt']"
   ]
  },
  {
   "cell_type": "markdown",
   "metadata": {},
   "source": [
    "#### Посмотрим на результаты"
   ]
  },
  {
   "cell_type": "code",
   "execution_count": 237,
   "metadata": {},
   "outputs": [
    {
     "data": {
      "text/html": [
       "<div>\n",
       "<style scoped>\n",
       "    .dataframe tbody tr th:only-of-type {\n",
       "        vertical-align: middle;\n",
       "    }\n",
       "\n",
       "    .dataframe tbody tr th {\n",
       "        vertical-align: top;\n",
       "    }\n",
       "\n",
       "    .dataframe thead th {\n",
       "        text-align: right;\n",
       "    }\n",
       "</style>\n",
       "<table border=\"1\" class=\"dataframe\">\n",
       "  <thead>\n",
       "    <tr style=\"text-align: right;\">\n",
       "      <th></th>\n",
       "      <th>train_score</th>\n",
       "      <th>test_score</th>\n",
       "    </tr>\n",
       "  </thead>\n",
       "  <tbody>\n",
       "    <tr>\n",
       "      <th>LogisticRegression()</th>\n",
       "      <td>0.851899</td>\n",
       "      <td>0.837812</td>\n",
       "    </tr>\n",
       "    <tr>\n",
       "      <th>LogisticRegression(opt)</th>\n",
       "      <td>0.851580</td>\n",
       "      <td>0.837724</td>\n",
       "    </tr>\n",
       "  </tbody>\n",
       "</table>\n",
       "</div>"
      ],
      "text/plain": [
       "                         train_score  test_score\n",
       "LogisticRegression()        0.851899    0.837812\n",
       "LogisticRegression(opt)     0.851580    0.837724"
      ]
     },
     "execution_count": 237,
     "metadata": {},
     "output_type": "execute_result"
    }
   ],
   "source": [
    "Quality_scores = pd.DataFrame()\n",
    "for i in model_scores.keys():\n",
    "    Quality_scores = pd.concat([Quality_scores, model_scores[i]])\n",
    "    \n",
    "Quality_scores"
   ]
  },
  {
   "cell_type": "code",
   "execution_count": 242,
   "metadata": {},
   "outputs": [],
   "source": [
    "Quality_scores.to_pickle(f'../results/{folder}/scores.pkl')\n",
    "pd.to_pickle(optuna_model_results, f'../results/{folder}/optuna_model_results.pkl')"
   ]
  },
  {
   "cell_type": "markdown",
   "metadata": {},
   "source": [
    "Сравним полученные значения с BaseLine"
   ]
  },
  {
   "cell_type": "code",
   "execution_count": 243,
   "metadata": {},
   "outputs": [],
   "source": [
    "BaseLine_scores = pd.read_pickle('../results/1. BaseLine/scores.pkl')"
   ]
  },
  {
   "cell_type": "code",
   "execution_count": 245,
   "metadata": {},
   "outputs": [
    {
     "data": {
      "text/html": [
       "<div>\n",
       "<style scoped>\n",
       "    .dataframe tbody tr th:only-of-type {\n",
       "        vertical-align: middle;\n",
       "    }\n",
       "\n",
       "    .dataframe tbody tr th {\n",
       "        vertical-align: top;\n",
       "    }\n",
       "\n",
       "    .dataframe thead th {\n",
       "        text-align: right;\n",
       "    }\n",
       "</style>\n",
       "<table border=\"1\" class=\"dataframe\">\n",
       "  <thead>\n",
       "    <tr style=\"text-align: right;\">\n",
       "      <th></th>\n",
       "      <th>train_score</th>\n",
       "      <th>test_score</th>\n",
       "    </tr>\n",
       "  </thead>\n",
       "  <tbody>\n",
       "    <tr>\n",
       "      <th>LGBMClassifier()</th>\n",
       "      <td>NaN</td>\n",
       "      <td>NaN</td>\n",
       "    </tr>\n",
       "    <tr>\n",
       "      <th>LGBMClassifier(opt)</th>\n",
       "      <td>NaN</td>\n",
       "      <td>NaN</td>\n",
       "    </tr>\n",
       "    <tr>\n",
       "      <th>LogisticRegression()</th>\n",
       "      <td>0.002101</td>\n",
       "      <td>0.001626</td>\n",
       "    </tr>\n",
       "    <tr>\n",
       "      <th>LogisticRegression(opt)</th>\n",
       "      <td>0.002092</td>\n",
       "      <td>0.001793</td>\n",
       "    </tr>\n",
       "    <tr>\n",
       "      <th>RandomForestClassifier()</th>\n",
       "      <td>NaN</td>\n",
       "      <td>NaN</td>\n",
       "    </tr>\n",
       "    <tr>\n",
       "      <th>RandomForestClassifier(opt)</th>\n",
       "      <td>NaN</td>\n",
       "      <td>NaN</td>\n",
       "    </tr>\n",
       "  </tbody>\n",
       "</table>\n",
       "</div>"
      ],
      "text/plain": [
       "                             train_score  test_score\n",
       "LGBMClassifier()                     NaN         NaN\n",
       "LGBMClassifier(opt)                  NaN         NaN\n",
       "LogisticRegression()            0.002101    0.001626\n",
       "LogisticRegression(opt)         0.002092    0.001793\n",
       "RandomForestClassifier()             NaN         NaN\n",
       "RandomForestClassifier(opt)          NaN         NaN"
      ]
     },
     "execution_count": 245,
     "metadata": {},
     "output_type": "execute_result"
    }
   ],
   "source": [
    "Quality_scores - BaseLine_scores "
   ]
  },
  {
   "cell_type": "markdown",
   "metadata": {},
   "source": [
    "Видим, что нам действительно удалось улучшить качество модели. Однако улучшение незначительно."
   ]
  }
 ],
 "metadata": {
  "accelerator": "GPU",
  "colab": {
   "provenance": []
  },
  "gpuClass": "standard",
  "kernelspec": {
   "display_name": "Python 3 (ipykernel)",
   "language": "python",
   "name": "python3"
  },
  "language_info": {
   "codemirror_mode": {
    "name": "ipython",
    "version": 3
   },
   "file_extension": ".py",
   "mimetype": "text/x-python",
   "name": "python",
   "nbconvert_exporter": "python",
   "pygments_lexer": "ipython3",
   "version": "3.10.5"
  }
 },
 "nbformat": 4,
 "nbformat_minor": 1
}
